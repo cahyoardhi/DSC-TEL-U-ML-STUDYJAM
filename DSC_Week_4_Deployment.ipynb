{
  "nbformat": 4,
  "nbformat_minor": 0,
  "metadata": {
    "colab": {
      "name": "DSC Week 4: Deployment.ipynb",
      "provenance": [],
      "collapsed_sections": [
        "iO9-lIMOO7HK"
      ],
      "include_colab_link": true
    },
    "kernelspec": {
      "name": "python3",
      "display_name": "Python 3"
    }
  },
  "cells": [
    {
      "cell_type": "markdown",
      "metadata": {
        "id": "view-in-github",
        "colab_type": "text"
      },
      "source": [
        "<a href=\"https://colab.research.google.com/github/cahyoardhi/DSC-TEL-U-ML-STUDYJAM/blob/main/DSC_Week_4_Deployment.ipynb\" target=\"_parent\"><img src=\"https://colab.research.google.com/assets/colab-badge.svg\" alt=\"Open In Colab\"/></a>"
      ]
    },
    {
      "cell_type": "markdown",
      "metadata": {
        "id": "iO9-lIMOO7HK"
      },
      "source": [
        "#**a. MACHINE LEARNING**"
      ]
    },
    {
      "cell_type": "markdown",
      "metadata": {
        "id": "yya8FNpjVJb6"
      },
      "source": [
        "<img src=\"https://wordstream-files-prod.s3.amazonaws.com/s3fs-public/styles/simple_image/public/images/machine-learning1.png?SnePeroHk5B9yZaLY7peFkULrfW8Gtaf&itok=yjEJbEKD\" width=\"50%\">"
      ]
    },
    {
      "cell_type": "markdown",
      "metadata": {
        "id": "lDi39lZyWvh9"
      },
      "source": [
        "Apa itu machine learning?\n",
        "machine learning adalah cabang keilmuan yang dimana membuat membuat suatu sistem dapat belajar dari data untuk mendapatkann pengalaman guna menyelesaikan permasalahan tertentu, machine learning sendiri terbagi menjadi 3 jenis, antara lain:"
      ]
    },
    {
      "cell_type": "markdown",
      "metadata": {
        "id": "wPDPvhnKwnU9"
      },
      "source": [
        "##**1. Supervised Learning**"
      ]
    },
    {
      "cell_type": "markdown",
      "metadata": {
        "id": "Dx9nHNi_w5FL"
      },
      "source": [
        "<img src=\"https://techvidvan.com/tutorials/wp-content/uploads/sites/2/2020/07/Supervised-Learning-in-ML.jpg\" width=\"50%\">"
      ]
    },
    {
      "cell_type": "markdown",
      "metadata": {
        "id": "fJN5b87nwzrt"
      },
      "source": [
        "\n",
        "supervised learning merupakan salah satu jenis dari varian machine learning, pada jenis ini, model machine learning akan melakukan pembelajaran dengan data yang terbagi menjadi dua bagian, yaitu <b>Feature variable / Independent variable / data X</b> dan <b>Target variable / dependent variable / data Y / Label</b>\n",
        "\n",
        "permasalahan yang dapat diselesaikan menggunakan supervised learning ada dua,  yaitu melakukan prediksi pada kategori / klasifikasi dan prediksi pada nilai kontinu / regresi, beberapa contohnya adalah melakukan prediksi nilai saham (regresi), melakukan prediksi pertumbuhan penduduk berdasarkan data yang ada (regresi), melakukan klasifikasi customer berdasarkan data yang ada (klasifikasi), membuat spam filter pada email box (klasifikasi)\n",
        "\n",
        "beberapa algoritma yang terdapat pada supervised learning adalah:\n",
        "<ul>\n",
        "<li>Linear Regression (Regresi)</li>\n",
        "<li>Decision Tree Regressor (Regresi)</li>\n",
        "<li>Logistic regression (Klasifikasi)</li>\n",
        "<li>Support Vector Machine (Klasifikasi)</li>\n",
        "<li>dkk</li>\n",
        "</ul>\n",
        "\n",
        "pada pembelajaran di minggu ini, kita akan belajar untuk menyelesaikan permasalahan Klasifikasi, yaitu mengenai customer churn pada layanan kartu kredit suatu bank"
      ]
    },
    {
      "cell_type": "markdown",
      "metadata": {
        "id": "IUDnmar3wrjh"
      },
      "source": [
        "##**2. Unsupervised Learning**"
      ]
    },
    {
      "cell_type": "markdown",
      "metadata": {
        "id": "9tWOldnPxSvA"
      },
      "source": [
        "<img src=\"https://techvidvan.com/tutorials/wp-content/uploads/sites/2/2020/07/Unsupervised-Learning-in-ML-1.jpg\" width=\"50%\">"
      ]
    },
    {
      "cell_type": "markdown",
      "metadata": {
        "id": "uFVjcWYTxCgc"
      },
      "source": [
        "unsupervised learning merupakan salah satu jenis dari varian machine learning, pada jenis ini model machine learning akan melakukan pembelajaran guna mencari pola pada data, permasalahan yang dapat diselesaikan menggunakan unsupervised learning diantaranya adalah dimensionality reduction dan clustering, beberapa contohnya adalah Melakukan pengurangan feature pada data (Dimentionaly reduction), melakukan clustering client berdasarkan pola dari data(clustering) dan masih banyak lagi\n",
        "\n",
        "Beberapa algoritma yang terdapat pada unsupervised learning adalah:\n",
        "<ul>\n",
        "<li>K-Means (Clustering)</li>\n",
        "<li>DBScan (Clustering)</li>\n",
        "<li>TSNE (Dimentionality reduction)</li>\n",
        "<li>PCA (Dimentionality reduction)</li>\n",
        "<li>dkk</li>\n",
        "</ul>"
      ]
    },
    {
      "cell_type": "markdown",
      "metadata": {
        "id": "KoOfBxp5wuri"
      },
      "source": [
        "##**3. Reinforcement Learning**"
      ]
    },
    {
      "cell_type": "markdown",
      "metadata": {
        "id": "2Yk6eZbeyFwI"
      },
      "source": [
        "<img src=\"https://miro.medium.com/max/702/1*4u2GtNnMa9xso1WkLh7hVA.png\" width=\"50%\">"
      ]
    },
    {
      "cell_type": "markdown",
      "metadata": {
        "id": "jVgEPYBvXEoJ"
      },
      "source": [
        "Reinforcement learning, merupakan salah satu jenis dari varian algoritma machine learning, pada jenis ini model machine learning akan melakukan pembelajaran melalui percobaan-percobaan berdasarkan konsep punishment dan reward, beberapa contohnya adalah membuat bot NPC pada game, membuat autonomous car, boston dynamic, dkk\n",
        "\n",
        "algoritma yang populer digunakan pada metode ini adalah Q Learning"
      ]
    },
    {
      "cell_type": "markdown",
      "metadata": {
        "id": "8YMzNC0gyNJb"
      },
      "source": [
        "#**b. DEEP LEARNING**"
      ]
    },
    {
      "cell_type": "markdown",
      "metadata": {
        "id": "gJIG8S4mzShj"
      },
      "source": [
        "<img src=\"https://lawtomated.com/wp-content/uploads/2019/04/MLvsDL.png\" width=\"50%\">"
      ]
    },
    {
      "cell_type": "markdown",
      "metadata": {
        "id": "JRYlRI89yV43"
      },
      "source": [
        "penjelasan~"
      ]
    },
    {
      "cell_type": "markdown",
      "metadata": {
        "id": "7wqE2D65wAiu"
      },
      "source": [
        "#**c. LANGKAH-LANGKAH DALAM MEMBUAT MODEL MACHINE LEARNING DAN DEEP LEARNING**"
      ]
    },
    {
      "cell_type": "markdown",
      "metadata": {
        "id": "6ZxZOY-sPFmI"
      },
      "source": [
        "##**1. Data Collection**"
      ]
    },
    {
      "cell_type": "markdown",
      "metadata": {
        "id": "n2Q6hGYvRN8D"
      },
      "source": [
        "<img src=\"https://miro.medium.com/max/8332/1*wK8k8Vo8_c6jdYIjUWL_Pw.png\" width=\"50%\">"
      ]
    },
    {
      "cell_type": "markdown",
      "metadata": {
        "id": "sZdN2-lIyYii"
      },
      "source": [
        "penjelasan~"
      ]
    },
    {
      "cell_type": "markdown",
      "metadata": {
        "id": "oPLHXVXycs8l"
      },
      "source": [
        "###Ambil data dari link github yang disediakandan buatlah dataframe dari data tersebut menggunakan pandas!"
      ]
    },
    {
      "cell_type": "code",
      "metadata": {
        "id": "i6nrHcQ_cq7S"
      },
      "source": [
        "link_data = 'https://raw.githubusercontent.com/cahyoardhi/DSC-TEL-U-ML-STUDYJAM/main/BankChurners.csv'\n",
        "\n",
        "#tulis kode disini"
      ],
      "execution_count": null,
      "outputs": []
    },
    {
      "cell_type": "markdown",
      "metadata": {
        "id": "l3VkQpw9c3cR"
      },
      "source": [
        "###jawaban"
      ]
    },
    {
      "cell_type": "code",
      "metadata": {
        "colab": {
          "base_uri": "https://localhost:8080/",
          "height": 305
        },
        "id": "fmTnp61nc8jg",
        "outputId": "584fd951-ee8d-496e-f15b-357d722b5773"
      },
      "source": [
        "import pandas as pd\n",
        "\n",
        "link_data = 'https://raw.githubusercontent.com/cahyoardhi/DSC-TEL-U-ML-STUDYJAM/main/BankChurners.csv'\n",
        "df = pd.read_csv(link_data)\n",
        "\n",
        "\n",
        "#output 5 nilai terbesar\n",
        "df.head()"
      ],
      "execution_count": null,
      "outputs": [
        {
          "output_type": "execute_result",
          "data": {
            "text/html": [
              "<div>\n",
              "<style scoped>\n",
              "    .dataframe tbody tr th:only-of-type {\n",
              "        vertical-align: middle;\n",
              "    }\n",
              "\n",
              "    .dataframe tbody tr th {\n",
              "        vertical-align: top;\n",
              "    }\n",
              "\n",
              "    .dataframe thead th {\n",
              "        text-align: right;\n",
              "    }\n",
              "</style>\n",
              "<table border=\"1\" class=\"dataframe\">\n",
              "  <thead>\n",
              "    <tr style=\"text-align: right;\">\n",
              "      <th></th>\n",
              "      <th>CLIENTNUM</th>\n",
              "      <th>Attrition_Flag</th>\n",
              "      <th>Customer_Age</th>\n",
              "      <th>Gender</th>\n",
              "      <th>Dependent_count</th>\n",
              "      <th>Education_Level</th>\n",
              "      <th>Marital_Status</th>\n",
              "      <th>Income_Category</th>\n",
              "      <th>Card_Category</th>\n",
              "      <th>Months_on_book</th>\n",
              "      <th>Total_Relationship_Count</th>\n",
              "      <th>Months_Inactive_12_mon</th>\n",
              "      <th>Contacts_Count_12_mon</th>\n",
              "      <th>Credit_Limit</th>\n",
              "      <th>Total_Revolving_Bal</th>\n",
              "      <th>Avg_Open_To_Buy</th>\n",
              "      <th>Total_Amt_Chng_Q4_Q1</th>\n",
              "      <th>Total_Trans_Amt</th>\n",
              "      <th>Total_Trans_Ct</th>\n",
              "      <th>Total_Ct_Chng_Q4_Q1</th>\n",
              "      <th>Avg_Utilization_Ratio</th>\n",
              "      <th>Naive_Bayes_Classifier_Attrition_Flag_Card_Category_Contacts_Count_12_mon_Dependent_count_Education_Level_Months_Inactive_12_mon_1</th>\n",
              "      <th>Naive_Bayes_Classifier_Attrition_Flag_Card_Category_Contacts_Count_12_mon_Dependent_count_Education_Level_Months_Inactive_12_mon_2</th>\n",
              "    </tr>\n",
              "  </thead>\n",
              "  <tbody>\n",
              "    <tr>\n",
              "      <th>0</th>\n",
              "      <td>768805383</td>\n",
              "      <td>Existing Customer</td>\n",
              "      <td>45</td>\n",
              "      <td>M</td>\n",
              "      <td>3</td>\n",
              "      <td>High School</td>\n",
              "      <td>Married</td>\n",
              "      <td>$60K - $80K</td>\n",
              "      <td>Blue</td>\n",
              "      <td>39</td>\n",
              "      <td>5</td>\n",
              "      <td>1</td>\n",
              "      <td>3</td>\n",
              "      <td>12691.0</td>\n",
              "      <td>777</td>\n",
              "      <td>11914.0</td>\n",
              "      <td>1.335</td>\n",
              "      <td>1144</td>\n",
              "      <td>42</td>\n",
              "      <td>1.625</td>\n",
              "      <td>0.061</td>\n",
              "      <td>0.000093</td>\n",
              "      <td>0.99991</td>\n",
              "    </tr>\n",
              "    <tr>\n",
              "      <th>1</th>\n",
              "      <td>818770008</td>\n",
              "      <td>Existing Customer</td>\n",
              "      <td>49</td>\n",
              "      <td>F</td>\n",
              "      <td>5</td>\n",
              "      <td>Graduate</td>\n",
              "      <td>Single</td>\n",
              "      <td>Less than $40K</td>\n",
              "      <td>Blue</td>\n",
              "      <td>44</td>\n",
              "      <td>6</td>\n",
              "      <td>1</td>\n",
              "      <td>2</td>\n",
              "      <td>8256.0</td>\n",
              "      <td>864</td>\n",
              "      <td>7392.0</td>\n",
              "      <td>1.541</td>\n",
              "      <td>1291</td>\n",
              "      <td>33</td>\n",
              "      <td>3.714</td>\n",
              "      <td>0.105</td>\n",
              "      <td>0.000057</td>\n",
              "      <td>0.99994</td>\n",
              "    </tr>\n",
              "    <tr>\n",
              "      <th>2</th>\n",
              "      <td>713982108</td>\n",
              "      <td>Existing Customer</td>\n",
              "      <td>51</td>\n",
              "      <td>M</td>\n",
              "      <td>3</td>\n",
              "      <td>Graduate</td>\n",
              "      <td>Married</td>\n",
              "      <td>$80K - $120K</td>\n",
              "      <td>Blue</td>\n",
              "      <td>36</td>\n",
              "      <td>4</td>\n",
              "      <td>1</td>\n",
              "      <td>0</td>\n",
              "      <td>3418.0</td>\n",
              "      <td>0</td>\n",
              "      <td>3418.0</td>\n",
              "      <td>2.594</td>\n",
              "      <td>1887</td>\n",
              "      <td>20</td>\n",
              "      <td>2.333</td>\n",
              "      <td>0.000</td>\n",
              "      <td>0.000021</td>\n",
              "      <td>0.99998</td>\n",
              "    </tr>\n",
              "    <tr>\n",
              "      <th>3</th>\n",
              "      <td>769911858</td>\n",
              "      <td>Existing Customer</td>\n",
              "      <td>40</td>\n",
              "      <td>F</td>\n",
              "      <td>4</td>\n",
              "      <td>High School</td>\n",
              "      <td>Unknown</td>\n",
              "      <td>Less than $40K</td>\n",
              "      <td>Blue</td>\n",
              "      <td>34</td>\n",
              "      <td>3</td>\n",
              "      <td>4</td>\n",
              "      <td>1</td>\n",
              "      <td>3313.0</td>\n",
              "      <td>2517</td>\n",
              "      <td>796.0</td>\n",
              "      <td>1.405</td>\n",
              "      <td>1171</td>\n",
              "      <td>20</td>\n",
              "      <td>2.333</td>\n",
              "      <td>0.760</td>\n",
              "      <td>0.000134</td>\n",
              "      <td>0.99987</td>\n",
              "    </tr>\n",
              "    <tr>\n",
              "      <th>4</th>\n",
              "      <td>709106358</td>\n",
              "      <td>Existing Customer</td>\n",
              "      <td>40</td>\n",
              "      <td>M</td>\n",
              "      <td>3</td>\n",
              "      <td>Uneducated</td>\n",
              "      <td>Married</td>\n",
              "      <td>$60K - $80K</td>\n",
              "      <td>Blue</td>\n",
              "      <td>21</td>\n",
              "      <td>5</td>\n",
              "      <td>1</td>\n",
              "      <td>0</td>\n",
              "      <td>4716.0</td>\n",
              "      <td>0</td>\n",
              "      <td>4716.0</td>\n",
              "      <td>2.175</td>\n",
              "      <td>816</td>\n",
              "      <td>28</td>\n",
              "      <td>2.500</td>\n",
              "      <td>0.000</td>\n",
              "      <td>0.000022</td>\n",
              "      <td>0.99998</td>\n",
              "    </tr>\n",
              "  </tbody>\n",
              "</table>\n",
              "</div>"
            ],
            "text/plain": [
              "   CLIENTNUM  ... Naive_Bayes_Classifier_Attrition_Flag_Card_Category_Contacts_Count_12_mon_Dependent_count_Education_Level_Months_Inactive_12_mon_2\n",
              "0  768805383  ...                                            0.99991                                                                                \n",
              "1  818770008  ...                                            0.99994                                                                                \n",
              "2  713982108  ...                                            0.99998                                                                                \n",
              "3  769911858  ...                                            0.99987                                                                                \n",
              "4  709106358  ...                                            0.99998                                                                                \n",
              "\n",
              "[5 rows x 23 columns]"
            ]
          },
          "metadata": {
            "tags": []
          },
          "execution_count": 21
        }
      ]
    },
    {
      "cell_type": "markdown",
      "metadata": {
        "id": "Tls_zBwCPK1h"
      },
      "source": [
        "##**2. Exploratory Data Analysis**"
      ]
    },
    {
      "cell_type": "markdown",
      "metadata": {
        "id": "qnzZ40KqRxoT"
      },
      "source": [
        "<img src=\"https://miro.medium.com/max/2598/1*RXdMb7Uk6mGqWqPguHULaQ.png\">"
      ]
    },
    {
      "cell_type": "markdown",
      "metadata": {
        "id": "I4GsBjh5bfrL"
      },
      "source": [
        "penjelasan~"
      ]
    },
    {
      "cell_type": "markdown",
      "metadata": {
        "id": "0oFoU9jQbh54"
      },
      "source": [
        "###Lakukan pengecekan informasi singkat mengenai data yang ada"
      ]
    },
    {
      "cell_type": "code",
      "metadata": {
        "id": "hMJ6X2HBcFYY"
      },
      "source": [
        "#tulis kode disini"
      ],
      "execution_count": null,
      "outputs": []
    },
    {
      "cell_type": "markdown",
      "metadata": {
        "id": "2_FG50E2cHFy"
      },
      "source": [
        "###jawaban:"
      ]
    },
    {
      "cell_type": "code",
      "metadata": {
        "colab": {
          "base_uri": "https://localhost:8080/"
        },
        "id": "MyV1TUyecIoJ",
        "outputId": "42c0e26b-3f7c-4995-b145-4b1ef1b92ac8"
      },
      "source": [
        "df.info()"
      ],
      "execution_count": null,
      "outputs": [
        {
          "output_type": "stream",
          "text": [
            "<class 'pandas.core.frame.DataFrame'>\n",
            "RangeIndex: 10127 entries, 0 to 10126\n",
            "Data columns (total 23 columns):\n",
            " #   Column                                                                                                                              Non-Null Count  Dtype  \n",
            "---  ------                                                                                                                              --------------  -----  \n",
            " 0   CLIENTNUM                                                                                                                           10127 non-null  int64  \n",
            " 1   Attrition_Flag                                                                                                                      10127 non-null  object \n",
            " 2   Customer_Age                                                                                                                        10127 non-null  int64  \n",
            " 3   Gender                                                                                                                              10127 non-null  object \n",
            " 4   Dependent_count                                                                                                                     10127 non-null  int64  \n",
            " 5   Education_Level                                                                                                                     10127 non-null  object \n",
            " 6   Marital_Status                                                                                                                      10127 non-null  object \n",
            " 7   Income_Category                                                                                                                     10127 non-null  object \n",
            " 8   Card_Category                                                                                                                       10127 non-null  object \n",
            " 9   Months_on_book                                                                                                                      10127 non-null  int64  \n",
            " 10  Total_Relationship_Count                                                                                                            10127 non-null  int64  \n",
            " 11  Months_Inactive_12_mon                                                                                                              10127 non-null  int64  \n",
            " 12  Contacts_Count_12_mon                                                                                                               10127 non-null  int64  \n",
            " 13  Credit_Limit                                                                                                                        10127 non-null  float64\n",
            " 14  Total_Revolving_Bal                                                                                                                 10127 non-null  int64  \n",
            " 15  Avg_Open_To_Buy                                                                                                                     10127 non-null  float64\n",
            " 16  Total_Amt_Chng_Q4_Q1                                                                                                                10127 non-null  float64\n",
            " 17  Total_Trans_Amt                                                                                                                     10127 non-null  int64  \n",
            " 18  Total_Trans_Ct                                                                                                                      10127 non-null  int64  \n",
            " 19  Total_Ct_Chng_Q4_Q1                                                                                                                 10127 non-null  float64\n",
            " 20  Avg_Utilization_Ratio                                                                                                               10127 non-null  float64\n",
            " 21  Naive_Bayes_Classifier_Attrition_Flag_Card_Category_Contacts_Count_12_mon_Dependent_count_Education_Level_Months_Inactive_12_mon_1  10127 non-null  float64\n",
            " 22  Naive_Bayes_Classifier_Attrition_Flag_Card_Category_Contacts_Count_12_mon_Dependent_count_Education_Level_Months_Inactive_12_mon_2  10127 non-null  float64\n",
            "dtypes: float64(7), int64(10), object(6)\n",
            "memory usage: 1.8+ MB\n"
          ],
          "name": "stdout"
        }
      ]
    },
    {
      "cell_type": "markdown",
      "metadata": {
        "id": "Hj0gMpuacL63"
      },
      "source": [
        "###lakukan pengecekan statistik deskriptif pada data yang ada"
      ]
    },
    {
      "cell_type": "code",
      "metadata": {
        "id": "eY4ADDZicPYp"
      },
      "source": [
        "#tulis kode disini"
      ],
      "execution_count": null,
      "outputs": []
    },
    {
      "cell_type": "markdown",
      "metadata": {
        "id": "WLDDOZaicRdj"
      },
      "source": [
        "###jawaban:"
      ]
    },
    {
      "cell_type": "code",
      "metadata": {
        "colab": {
          "base_uri": "https://localhost:8080/",
          "height": 801
        },
        "id": "m0SdaBlTcTZ1",
        "outputId": "a025e2f3-a706-4201-96ff-5f09c011fcb2"
      },
      "source": [
        "df.describe(include='all').T"
      ],
      "execution_count": null,
      "outputs": [
        {
          "output_type": "execute_result",
          "data": {
            "text/html": [
              "<div>\n",
              "<style scoped>\n",
              "    .dataframe tbody tr th:only-of-type {\n",
              "        vertical-align: middle;\n",
              "    }\n",
              "\n",
              "    .dataframe tbody tr th {\n",
              "        vertical-align: top;\n",
              "    }\n",
              "\n",
              "    .dataframe thead th {\n",
              "        text-align: right;\n",
              "    }\n",
              "</style>\n",
              "<table border=\"1\" class=\"dataframe\">\n",
              "  <thead>\n",
              "    <tr style=\"text-align: right;\">\n",
              "      <th></th>\n",
              "      <th>count</th>\n",
              "      <th>unique</th>\n",
              "      <th>top</th>\n",
              "      <th>freq</th>\n",
              "      <th>mean</th>\n",
              "      <th>std</th>\n",
              "      <th>min</th>\n",
              "      <th>25%</th>\n",
              "      <th>50%</th>\n",
              "      <th>75%</th>\n",
              "      <th>max</th>\n",
              "    </tr>\n",
              "  </thead>\n",
              "  <tbody>\n",
              "    <tr>\n",
              "      <th>CLIENTNUM</th>\n",
              "      <td>10127</td>\n",
              "      <td>NaN</td>\n",
              "      <td>NaN</td>\n",
              "      <td>NaN</td>\n",
              "      <td>7.39178e+08</td>\n",
              "      <td>3.69038e+07</td>\n",
              "      <td>7.08082e+08</td>\n",
              "      <td>7.13037e+08</td>\n",
              "      <td>7.17926e+08</td>\n",
              "      <td>7.73144e+08</td>\n",
              "      <td>8.28343e+08</td>\n",
              "    </tr>\n",
              "    <tr>\n",
              "      <th>Attrition_Flag</th>\n",
              "      <td>10127</td>\n",
              "      <td>2</td>\n",
              "      <td>Existing Customer</td>\n",
              "      <td>8500</td>\n",
              "      <td>NaN</td>\n",
              "      <td>NaN</td>\n",
              "      <td>NaN</td>\n",
              "      <td>NaN</td>\n",
              "      <td>NaN</td>\n",
              "      <td>NaN</td>\n",
              "      <td>NaN</td>\n",
              "    </tr>\n",
              "    <tr>\n",
              "      <th>Customer_Age</th>\n",
              "      <td>10127</td>\n",
              "      <td>NaN</td>\n",
              "      <td>NaN</td>\n",
              "      <td>NaN</td>\n",
              "      <td>46.326</td>\n",
              "      <td>8.01681</td>\n",
              "      <td>26</td>\n",
              "      <td>41</td>\n",
              "      <td>46</td>\n",
              "      <td>52</td>\n",
              "      <td>73</td>\n",
              "    </tr>\n",
              "    <tr>\n",
              "      <th>Gender</th>\n",
              "      <td>10127</td>\n",
              "      <td>2</td>\n",
              "      <td>F</td>\n",
              "      <td>5358</td>\n",
              "      <td>NaN</td>\n",
              "      <td>NaN</td>\n",
              "      <td>NaN</td>\n",
              "      <td>NaN</td>\n",
              "      <td>NaN</td>\n",
              "      <td>NaN</td>\n",
              "      <td>NaN</td>\n",
              "    </tr>\n",
              "    <tr>\n",
              "      <th>Dependent_count</th>\n",
              "      <td>10127</td>\n",
              "      <td>NaN</td>\n",
              "      <td>NaN</td>\n",
              "      <td>NaN</td>\n",
              "      <td>2.3462</td>\n",
              "      <td>1.29891</td>\n",
              "      <td>0</td>\n",
              "      <td>1</td>\n",
              "      <td>2</td>\n",
              "      <td>3</td>\n",
              "      <td>5</td>\n",
              "    </tr>\n",
              "    <tr>\n",
              "      <th>Education_Level</th>\n",
              "      <td>10127</td>\n",
              "      <td>7</td>\n",
              "      <td>Graduate</td>\n",
              "      <td>3128</td>\n",
              "      <td>NaN</td>\n",
              "      <td>NaN</td>\n",
              "      <td>NaN</td>\n",
              "      <td>NaN</td>\n",
              "      <td>NaN</td>\n",
              "      <td>NaN</td>\n",
              "      <td>NaN</td>\n",
              "    </tr>\n",
              "    <tr>\n",
              "      <th>Marital_Status</th>\n",
              "      <td>10127</td>\n",
              "      <td>4</td>\n",
              "      <td>Married</td>\n",
              "      <td>4687</td>\n",
              "      <td>NaN</td>\n",
              "      <td>NaN</td>\n",
              "      <td>NaN</td>\n",
              "      <td>NaN</td>\n",
              "      <td>NaN</td>\n",
              "      <td>NaN</td>\n",
              "      <td>NaN</td>\n",
              "    </tr>\n",
              "    <tr>\n",
              "      <th>Income_Category</th>\n",
              "      <td>10127</td>\n",
              "      <td>6</td>\n",
              "      <td>Less than $40K</td>\n",
              "      <td>3561</td>\n",
              "      <td>NaN</td>\n",
              "      <td>NaN</td>\n",
              "      <td>NaN</td>\n",
              "      <td>NaN</td>\n",
              "      <td>NaN</td>\n",
              "      <td>NaN</td>\n",
              "      <td>NaN</td>\n",
              "    </tr>\n",
              "    <tr>\n",
              "      <th>Card_Category</th>\n",
              "      <td>10127</td>\n",
              "      <td>4</td>\n",
              "      <td>Blue</td>\n",
              "      <td>9436</td>\n",
              "      <td>NaN</td>\n",
              "      <td>NaN</td>\n",
              "      <td>NaN</td>\n",
              "      <td>NaN</td>\n",
              "      <td>NaN</td>\n",
              "      <td>NaN</td>\n",
              "      <td>NaN</td>\n",
              "    </tr>\n",
              "    <tr>\n",
              "      <th>Months_on_book</th>\n",
              "      <td>10127</td>\n",
              "      <td>NaN</td>\n",
              "      <td>NaN</td>\n",
              "      <td>NaN</td>\n",
              "      <td>35.9284</td>\n",
              "      <td>7.98642</td>\n",
              "      <td>13</td>\n",
              "      <td>31</td>\n",
              "      <td>36</td>\n",
              "      <td>40</td>\n",
              "      <td>56</td>\n",
              "    </tr>\n",
              "    <tr>\n",
              "      <th>Total_Relationship_Count</th>\n",
              "      <td>10127</td>\n",
              "      <td>NaN</td>\n",
              "      <td>NaN</td>\n",
              "      <td>NaN</td>\n",
              "      <td>3.81258</td>\n",
              "      <td>1.55441</td>\n",
              "      <td>1</td>\n",
              "      <td>3</td>\n",
              "      <td>4</td>\n",
              "      <td>5</td>\n",
              "      <td>6</td>\n",
              "    </tr>\n",
              "    <tr>\n",
              "      <th>Months_Inactive_12_mon</th>\n",
              "      <td>10127</td>\n",
              "      <td>NaN</td>\n",
              "      <td>NaN</td>\n",
              "      <td>NaN</td>\n",
              "      <td>2.34117</td>\n",
              "      <td>1.01062</td>\n",
              "      <td>0</td>\n",
              "      <td>2</td>\n",
              "      <td>2</td>\n",
              "      <td>3</td>\n",
              "      <td>6</td>\n",
              "    </tr>\n",
              "    <tr>\n",
              "      <th>Contacts_Count_12_mon</th>\n",
              "      <td>10127</td>\n",
              "      <td>NaN</td>\n",
              "      <td>NaN</td>\n",
              "      <td>NaN</td>\n",
              "      <td>2.45532</td>\n",
              "      <td>1.10623</td>\n",
              "      <td>0</td>\n",
              "      <td>2</td>\n",
              "      <td>2</td>\n",
              "      <td>3</td>\n",
              "      <td>6</td>\n",
              "    </tr>\n",
              "    <tr>\n",
              "      <th>Credit_Limit</th>\n",
              "      <td>10127</td>\n",
              "      <td>NaN</td>\n",
              "      <td>NaN</td>\n",
              "      <td>NaN</td>\n",
              "      <td>8631.95</td>\n",
              "      <td>9088.78</td>\n",
              "      <td>1438.3</td>\n",
              "      <td>2555</td>\n",
              "      <td>4549</td>\n",
              "      <td>11067.5</td>\n",
              "      <td>34516</td>\n",
              "    </tr>\n",
              "    <tr>\n",
              "      <th>Total_Revolving_Bal</th>\n",
              "      <td>10127</td>\n",
              "      <td>NaN</td>\n",
              "      <td>NaN</td>\n",
              "      <td>NaN</td>\n",
              "      <td>1162.81</td>\n",
              "      <td>814.987</td>\n",
              "      <td>0</td>\n",
              "      <td>359</td>\n",
              "      <td>1276</td>\n",
              "      <td>1784</td>\n",
              "      <td>2517</td>\n",
              "    </tr>\n",
              "    <tr>\n",
              "      <th>Avg_Open_To_Buy</th>\n",
              "      <td>10127</td>\n",
              "      <td>NaN</td>\n",
              "      <td>NaN</td>\n",
              "      <td>NaN</td>\n",
              "      <td>7469.14</td>\n",
              "      <td>9090.69</td>\n",
              "      <td>3</td>\n",
              "      <td>1324.5</td>\n",
              "      <td>3474</td>\n",
              "      <td>9859</td>\n",
              "      <td>34516</td>\n",
              "    </tr>\n",
              "    <tr>\n",
              "      <th>Total_Amt_Chng_Q4_Q1</th>\n",
              "      <td>10127</td>\n",
              "      <td>NaN</td>\n",
              "      <td>NaN</td>\n",
              "      <td>NaN</td>\n",
              "      <td>0.759941</td>\n",
              "      <td>0.219207</td>\n",
              "      <td>0</td>\n",
              "      <td>0.631</td>\n",
              "      <td>0.736</td>\n",
              "      <td>0.859</td>\n",
              "      <td>3.397</td>\n",
              "    </tr>\n",
              "    <tr>\n",
              "      <th>Total_Trans_Amt</th>\n",
              "      <td>10127</td>\n",
              "      <td>NaN</td>\n",
              "      <td>NaN</td>\n",
              "      <td>NaN</td>\n",
              "      <td>4404.09</td>\n",
              "      <td>3397.13</td>\n",
              "      <td>510</td>\n",
              "      <td>2155.5</td>\n",
              "      <td>3899</td>\n",
              "      <td>4741</td>\n",
              "      <td>18484</td>\n",
              "    </tr>\n",
              "    <tr>\n",
              "      <th>Total_Trans_Ct</th>\n",
              "      <td>10127</td>\n",
              "      <td>NaN</td>\n",
              "      <td>NaN</td>\n",
              "      <td>NaN</td>\n",
              "      <td>64.8587</td>\n",
              "      <td>23.4726</td>\n",
              "      <td>10</td>\n",
              "      <td>45</td>\n",
              "      <td>67</td>\n",
              "      <td>81</td>\n",
              "      <td>139</td>\n",
              "    </tr>\n",
              "    <tr>\n",
              "      <th>Total_Ct_Chng_Q4_Q1</th>\n",
              "      <td>10127</td>\n",
              "      <td>NaN</td>\n",
              "      <td>NaN</td>\n",
              "      <td>NaN</td>\n",
              "      <td>0.712222</td>\n",
              "      <td>0.238086</td>\n",
              "      <td>0</td>\n",
              "      <td>0.582</td>\n",
              "      <td>0.702</td>\n",
              "      <td>0.818</td>\n",
              "      <td>3.714</td>\n",
              "    </tr>\n",
              "    <tr>\n",
              "      <th>Avg_Utilization_Ratio</th>\n",
              "      <td>10127</td>\n",
              "      <td>NaN</td>\n",
              "      <td>NaN</td>\n",
              "      <td>NaN</td>\n",
              "      <td>0.274894</td>\n",
              "      <td>0.275691</td>\n",
              "      <td>0</td>\n",
              "      <td>0.023</td>\n",
              "      <td>0.176</td>\n",
              "      <td>0.503</td>\n",
              "      <td>0.999</td>\n",
              "    </tr>\n",
              "    <tr>\n",
              "      <th>Naive_Bayes_Classifier_Attrition_Flag_Card_Category_Contacts_Count_12_mon_Dependent_count_Education_Level_Months_Inactive_12_mon_1</th>\n",
              "      <td>10127</td>\n",
              "      <td>NaN</td>\n",
              "      <td>NaN</td>\n",
              "      <td>NaN</td>\n",
              "      <td>0.159997</td>\n",
              "      <td>0.365301</td>\n",
              "      <td>7.6642e-06</td>\n",
              "      <td>9.8983e-05</td>\n",
              "      <td>0.00018146</td>\n",
              "      <td>0.0003373</td>\n",
              "      <td>0.99958</td>\n",
              "    </tr>\n",
              "    <tr>\n",
              "      <th>Naive_Bayes_Classifier_Attrition_Flag_Card_Category_Contacts_Count_12_mon_Dependent_count_Education_Level_Months_Inactive_12_mon_2</th>\n",
              "      <td>10127</td>\n",
              "      <td>NaN</td>\n",
              "      <td>NaN</td>\n",
              "      <td>NaN</td>\n",
              "      <td>0.840003</td>\n",
              "      <td>0.365301</td>\n",
              "      <td>0.00041998</td>\n",
              "      <td>0.99966</td>\n",
              "      <td>0.99982</td>\n",
              "      <td>0.9999</td>\n",
              "      <td>0.99999</td>\n",
              "    </tr>\n",
              "  </tbody>\n",
              "</table>\n",
              "</div>"
            ],
            "text/plain": [
              "                                                    count  ...          max\n",
              "CLIENTNUM                                           10127  ...  8.28343e+08\n",
              "Attrition_Flag                                      10127  ...          NaN\n",
              "Customer_Age                                        10127  ...           73\n",
              "Gender                                              10127  ...          NaN\n",
              "Dependent_count                                     10127  ...            5\n",
              "Education_Level                                     10127  ...          NaN\n",
              "Marital_Status                                      10127  ...          NaN\n",
              "Income_Category                                     10127  ...          NaN\n",
              "Card_Category                                       10127  ...          NaN\n",
              "Months_on_book                                      10127  ...           56\n",
              "Total_Relationship_Count                            10127  ...            6\n",
              "Months_Inactive_12_mon                              10127  ...            6\n",
              "Contacts_Count_12_mon                               10127  ...            6\n",
              "Credit_Limit                                        10127  ...        34516\n",
              "Total_Revolving_Bal                                 10127  ...         2517\n",
              "Avg_Open_To_Buy                                     10127  ...        34516\n",
              "Total_Amt_Chng_Q4_Q1                                10127  ...        3.397\n",
              "Total_Trans_Amt                                     10127  ...        18484\n",
              "Total_Trans_Ct                                      10127  ...          139\n",
              "Total_Ct_Chng_Q4_Q1                                 10127  ...        3.714\n",
              "Avg_Utilization_Ratio                               10127  ...        0.999\n",
              "Naive_Bayes_Classifier_Attrition_Flag_Card_Cate...  10127  ...      0.99958\n",
              "Naive_Bayes_Classifier_Attrition_Flag_Card_Cate...  10127  ...      0.99999\n",
              "\n",
              "[23 rows x 11 columns]"
            ]
          },
          "metadata": {
            "tags": []
          },
          "execution_count": 25
        }
      ]
    },
    {
      "cell_type": "markdown",
      "metadata": {
        "id": "WwOttuqbcYeU"
      },
      "source": [
        "###Lakukan pengecekan apakah terdapat data kosong pada dataframe"
      ]
    },
    {
      "cell_type": "code",
      "metadata": {
        "id": "-stHqIthcdt0"
      },
      "source": [
        "#tulis kode disini"
      ],
      "execution_count": null,
      "outputs": []
    },
    {
      "cell_type": "markdown",
      "metadata": {
        "id": "kKgZL5_7cf2H"
      },
      "source": [
        "###jawaban:"
      ]
    },
    {
      "cell_type": "code",
      "metadata": {
        "colab": {
          "base_uri": "https://localhost:8080/"
        },
        "id": "wi2lgH5EchH2",
        "outputId": "7b90da5a-dfb3-4568-9577-1508cadf9a1e"
      },
      "source": [
        "df.isnull().sum()"
      ],
      "execution_count": null,
      "outputs": [
        {
          "output_type": "execute_result",
          "data": {
            "text/plain": [
              "CLIENTNUM                                                                                                                             0\n",
              "Attrition_Flag                                                                                                                        0\n",
              "Customer_Age                                                                                                                          0\n",
              "Gender                                                                                                                                0\n",
              "Dependent_count                                                                                                                       0\n",
              "Education_Level                                                                                                                       0\n",
              "Marital_Status                                                                                                                        0\n",
              "Income_Category                                                                                                                       0\n",
              "Card_Category                                                                                                                         0\n",
              "Months_on_book                                                                                                                        0\n",
              "Total_Relationship_Count                                                                                                              0\n",
              "Months_Inactive_12_mon                                                                                                                0\n",
              "Contacts_Count_12_mon                                                                                                                 0\n",
              "Credit_Limit                                                                                                                          0\n",
              "Total_Revolving_Bal                                                                                                                   0\n",
              "Avg_Open_To_Buy                                                                                                                       0\n",
              "Total_Amt_Chng_Q4_Q1                                                                                                                  0\n",
              "Total_Trans_Amt                                                                                                                       0\n",
              "Total_Trans_Ct                                                                                                                        0\n",
              "Total_Ct_Chng_Q4_Q1                                                                                                                   0\n",
              "Avg_Utilization_Ratio                                                                                                                 0\n",
              "Naive_Bayes_Classifier_Attrition_Flag_Card_Category_Contacts_Count_12_mon_Dependent_count_Education_Level_Months_Inactive_12_mon_1    0\n",
              "Naive_Bayes_Classifier_Attrition_Flag_Card_Category_Contacts_Count_12_mon_Dependent_count_Education_Level_Months_Inactive_12_mon_2    0\n",
              "dtype: int64"
            ]
          },
          "metadata": {
            "tags": []
          },
          "execution_count": 27
        }
      ]
    },
    {
      "cell_type": "markdown",
      "metadata": {
        "id": "A5mNRdJ8cmi4"
      },
      "source": [
        "###Lakukan pengecekan terhadap data duplikat"
      ]
    },
    {
      "cell_type": "code",
      "metadata": {
        "id": "D0Sl8pzFczFU"
      },
      "source": [
        "#tulis kode disini"
      ],
      "execution_count": null,
      "outputs": []
    },
    {
      "cell_type": "markdown",
      "metadata": {
        "id": "0o9qi5xNc0Fk"
      },
      "source": [
        "###jawaban:"
      ]
    },
    {
      "cell_type": "code",
      "metadata": {
        "colab": {
          "base_uri": "https://localhost:8080/",
          "height": 68
        },
        "id": "Y-__bqSrcpwr",
        "outputId": "80d6face-106b-42a3-8118-91ce57b4a233"
      },
      "source": [
        "df.loc[df.duplicated()]"
      ],
      "execution_count": null,
      "outputs": [
        {
          "output_type": "execute_result",
          "data": {
            "text/html": [
              "<div>\n",
              "<style scoped>\n",
              "    .dataframe tbody tr th:only-of-type {\n",
              "        vertical-align: middle;\n",
              "    }\n",
              "\n",
              "    .dataframe tbody tr th {\n",
              "        vertical-align: top;\n",
              "    }\n",
              "\n",
              "    .dataframe thead th {\n",
              "        text-align: right;\n",
              "    }\n",
              "</style>\n",
              "<table border=\"1\" class=\"dataframe\">\n",
              "  <thead>\n",
              "    <tr style=\"text-align: right;\">\n",
              "      <th></th>\n",
              "      <th>CLIENTNUM</th>\n",
              "      <th>Attrition_Flag</th>\n",
              "      <th>Customer_Age</th>\n",
              "      <th>Gender</th>\n",
              "      <th>Dependent_count</th>\n",
              "      <th>Education_Level</th>\n",
              "      <th>Marital_Status</th>\n",
              "      <th>Income_Category</th>\n",
              "      <th>Card_Category</th>\n",
              "      <th>Months_on_book</th>\n",
              "      <th>Total_Relationship_Count</th>\n",
              "      <th>Months_Inactive_12_mon</th>\n",
              "      <th>Contacts_Count_12_mon</th>\n",
              "      <th>Credit_Limit</th>\n",
              "      <th>Total_Revolving_Bal</th>\n",
              "      <th>Avg_Open_To_Buy</th>\n",
              "      <th>Total_Amt_Chng_Q4_Q1</th>\n",
              "      <th>Total_Trans_Amt</th>\n",
              "      <th>Total_Trans_Ct</th>\n",
              "      <th>Total_Ct_Chng_Q4_Q1</th>\n",
              "      <th>Avg_Utilization_Ratio</th>\n",
              "      <th>Naive_Bayes_Classifier_Attrition_Flag_Card_Category_Contacts_Count_12_mon_Dependent_count_Education_Level_Months_Inactive_12_mon_1</th>\n",
              "      <th>Naive_Bayes_Classifier_Attrition_Flag_Card_Category_Contacts_Count_12_mon_Dependent_count_Education_Level_Months_Inactive_12_mon_2</th>\n",
              "    </tr>\n",
              "  </thead>\n",
              "  <tbody>\n",
              "  </tbody>\n",
              "</table>\n",
              "</div>"
            ],
            "text/plain": [
              "Empty DataFrame\n",
              "Columns: [CLIENTNUM, Attrition_Flag, Customer_Age, Gender, Dependent_count, Education_Level, Marital_Status, Income_Category, Card_Category, Months_on_book, Total_Relationship_Count, Months_Inactive_12_mon, Contacts_Count_12_mon, Credit_Limit, Total_Revolving_Bal, Avg_Open_To_Buy, Total_Amt_Chng_Q4_Q1, Total_Trans_Amt, Total_Trans_Ct, Total_Ct_Chng_Q4_Q1, Avg_Utilization_Ratio, Naive_Bayes_Classifier_Attrition_Flag_Card_Category_Contacts_Count_12_mon_Dependent_count_Education_Level_Months_Inactive_12_mon_1, Naive_Bayes_Classifier_Attrition_Flag_Card_Category_Contacts_Count_12_mon_Dependent_count_Education_Level_Months_Inactive_12_mon_2]\n",
              "Index: []"
            ]
          },
          "metadata": {
            "tags": []
          },
          "execution_count": 29
        }
      ]
    },
    {
      "cell_type": "markdown",
      "metadata": {
        "id": "7k6vnSTBc3i_"
      },
      "source": [
        "###Lakukan pengecekan jumlah target variable pada data yang dimiliki"
      ]
    },
    {
      "cell_type": "code",
      "metadata": {
        "id": "sQZb_MywdBLP"
      },
      "source": [
        "#tulis kode disini"
      ],
      "execution_count": null,
      "outputs": []
    },
    {
      "cell_type": "markdown",
      "metadata": {
        "id": "IatkfTZfdCui"
      },
      "source": [
        "###jawaban:"
      ]
    },
    {
      "cell_type": "code",
      "metadata": {
        "colab": {
          "base_uri": "https://localhost:8080/"
        },
        "id": "Dmvw5Cf3dEXs",
        "outputId": "bea27225-d2ac-4cf6-d5cf-ee2e8eb2ab0e"
      },
      "source": [
        "df['Attrition_Flag'].value_counts()"
      ],
      "execution_count": null,
      "outputs": [
        {
          "output_type": "execute_result",
          "data": {
            "text/plain": [
              "Existing Customer    8500\n",
              "Attrited Customer    1627\n",
              "Name: Attrition_Flag, dtype: int64"
            ]
          },
          "metadata": {
            "tags": []
          },
          "execution_count": 31
        }
      ]
    },
    {
      "cell_type": "markdown",
      "metadata": {
        "id": "iCqqIIpvdPbF"
      },
      "source": [
        "###Lakukan pengecekan hubungan tiap feature menggunakan heatmap!"
      ]
    },
    {
      "cell_type": "code",
      "metadata": {
        "id": "eiSaS9kQdUXz"
      },
      "source": [
        "#tulis kode disini"
      ],
      "execution_count": null,
      "outputs": []
    },
    {
      "cell_type": "markdown",
      "metadata": {
        "id": "yj2TTxkLdWV_"
      },
      "source": [
        "###jawaban:"
      ]
    },
    {
      "cell_type": "code",
      "metadata": {
        "colab": {
          "base_uri": "https://localhost:8080/",
          "height": 1000
        },
        "id": "Z1P7SNjDdX3K",
        "outputId": "0d099572-bbb1-4535-d2e4-b58c0c7627af"
      },
      "source": [
        "from matplotlib import pyplot as plt\n",
        "import seaborn as sns\n",
        "import numpy as np\n",
        "\n",
        "mask = np.triu(df.corr())\n",
        "\n",
        "fig, ax = plt.subplots(figsize=(15,15))\n",
        "ax = sns.heatmap(round(df.corr(), 2), mask=mask, cmap='Blues', annot=True, linewidths=1)\n",
        "ax.set_title('PENGECEKAN HUBUNGAN ANTAR FEATURE PADA DATA', fontweight='bold')\n",
        "plt.show()"
      ],
      "execution_count": null,
      "outputs": [
        {
          "output_type": "display_data",
          "data": {
            "image/png": "[encoded data removed]",
            "text/plain": [
              "<Figure size 1080x1080 with 2 Axes>"
            ]
          },
          "metadata": {
            "tags": [],
            "needs_background": "light"
          }
        }
      ]
    },
    {
      "cell_type": "markdown",
      "metadata": {
        "id": "npS4n_yheK-P"
      },
      "source": [
        "###Lakukan pengecekan apakah feature yang terlihat berhubungan itu benar adanya menggunakan .sort_values()"
      ]
    },
    {
      "cell_type": "code",
      "metadata": {
        "id": "YnaE8Ok1eYlS"
      },
      "source": [
        "#tulis kode disini"
      ],
      "execution_count": null,
      "outputs": []
    },
    {
      "cell_type": "markdown",
      "metadata": {
        "id": "rKFSc_40eaJL"
      },
      "source": [
        "###jawaban:"
      ]
    },
    {
      "cell_type": "code",
      "metadata": {
        "colab": {
          "base_uri": "https://localhost:8080/",
          "height": 601
        },
        "id": "N94nCfUmebXo",
        "outputId": "e28affad-6fb8-4b06-f6a1-0821c7ddb7e0"
      },
      "source": [
        "df.sort_values('Credit_Limit', ascending=False)"
      ],
      "execution_count": null,
      "outputs": [
        {
          "output_type": "execute_result",
          "data": {
            "text/html": [
              "<div>\n",
              "<style scoped>\n",
              "    .dataframe tbody tr th:only-of-type {\n",
              "        vertical-align: middle;\n",
              "    }\n",
              "\n",
              "    .dataframe tbody tr th {\n",
              "        vertical-align: top;\n",
              "    }\n",
              "\n",
              "    .dataframe thead th {\n",
              "        text-align: right;\n",
              "    }\n",
              "</style>\n",
              "<table border=\"1\" class=\"dataframe\">\n",
              "  <thead>\n",
              "    <tr style=\"text-align: right;\">\n",
              "      <th></th>\n",
              "      <th>CLIENTNUM</th>\n",
              "      <th>Attrition_Flag</th>\n",
              "      <th>Customer_Age</th>\n",
              "      <th>Gender</th>\n",
              "      <th>Dependent_count</th>\n",
              "      <th>Education_Level</th>\n",
              "      <th>Marital_Status</th>\n",
              "      <th>Income_Category</th>\n",
              "      <th>Card_Category</th>\n",
              "      <th>Months_on_book</th>\n",
              "      <th>Total_Relationship_Count</th>\n",
              "      <th>Months_Inactive_12_mon</th>\n",
              "      <th>Contacts_Count_12_mon</th>\n",
              "      <th>Credit_Limit</th>\n",
              "      <th>Total_Revolving_Bal</th>\n",
              "      <th>Avg_Open_To_Buy</th>\n",
              "      <th>Total_Amt_Chng_Q4_Q1</th>\n",
              "      <th>Total_Trans_Amt</th>\n",
              "      <th>Total_Trans_Ct</th>\n",
              "      <th>Total_Ct_Chng_Q4_Q1</th>\n",
              "      <th>Avg_Utilization_Ratio</th>\n",
              "      <th>Naive_Bayes_Classifier_Attrition_Flag_Card_Category_Contacts_Count_12_mon_Dependent_count_Education_Level_Months_Inactive_12_mon_1</th>\n",
              "      <th>Naive_Bayes_Classifier_Attrition_Flag_Card_Category_Contacts_Count_12_mon_Dependent_count_Education_Level_Months_Inactive_12_mon_2</th>\n",
              "    </tr>\n",
              "  </thead>\n",
              "  <tbody>\n",
              "    <tr>\n",
              "      <th>7032</th>\n",
              "      <td>715130808</td>\n",
              "      <td>Existing Customer</td>\n",
              "      <td>45</td>\n",
              "      <td>M</td>\n",
              "      <td>3</td>\n",
              "      <td>Graduate</td>\n",
              "      <td>Single</td>\n",
              "      <td>$60K - $80K</td>\n",
              "      <td>Silver</td>\n",
              "      <td>34</td>\n",
              "      <td>5</td>\n",
              "      <td>1</td>\n",
              "      <td>1</td>\n",
              "      <td>34516.0</td>\n",
              "      <td>1664</td>\n",
              "      <td>32852.0</td>\n",
              "      <td>0.730</td>\n",
              "      <td>4912</td>\n",
              "      <td>80</td>\n",
              "      <td>0.739</td>\n",
              "      <td>0.048</td>\n",
              "      <td>0.000031</td>\n",
              "      <td>0.999970</td>\n",
              "    </tr>\n",
              "    <tr>\n",
              "      <th>6411</th>\n",
              "      <td>817607358</td>\n",
              "      <td>Attrited Customer</td>\n",
              "      <td>44</td>\n",
              "      <td>F</td>\n",
              "      <td>2</td>\n",
              "      <td>High School</td>\n",
              "      <td>Unknown</td>\n",
              "      <td>Unknown</td>\n",
              "      <td>Gold</td>\n",
              "      <td>35</td>\n",
              "      <td>3</td>\n",
              "      <td>3</td>\n",
              "      <td>3</td>\n",
              "      <td>34516.0</td>\n",
              "      <td>0</td>\n",
              "      <td>34516.0</td>\n",
              "      <td>0.767</td>\n",
              "      <td>2227</td>\n",
              "      <td>44</td>\n",
              "      <td>0.630</td>\n",
              "      <td>0.000</td>\n",
              "      <td>0.997060</td>\n",
              "      <td>0.002942</td>\n",
              "    </tr>\n",
              "    <tr>\n",
              "      <th>1437</th>\n",
              "      <td>715870758</td>\n",
              "      <td>Existing Customer</td>\n",
              "      <td>35</td>\n",
              "      <td>M</td>\n",
              "      <td>4</td>\n",
              "      <td>Graduate</td>\n",
              "      <td>Married</td>\n",
              "      <td>$120K +</td>\n",
              "      <td>Blue</td>\n",
              "      <td>30</td>\n",
              "      <td>4</td>\n",
              "      <td>3</td>\n",
              "      <td>4</td>\n",
              "      <td>34516.0</td>\n",
              "      <td>1018</td>\n",
              "      <td>33498.0</td>\n",
              "      <td>1.129</td>\n",
              "      <td>2350</td>\n",
              "      <td>55</td>\n",
              "      <td>0.774</td>\n",
              "      <td>0.029</td>\n",
              "      <td>0.000541</td>\n",
              "      <td>0.999460</td>\n",
              "    </tr>\n",
              "    <tr>\n",
              "      <th>9474</th>\n",
              "      <td>754443033</td>\n",
              "      <td>Attrited Customer</td>\n",
              "      <td>50</td>\n",
              "      <td>M</td>\n",
              "      <td>1</td>\n",
              "      <td>Graduate</td>\n",
              "      <td>Single</td>\n",
              "      <td>$80K - $120K</td>\n",
              "      <td>Silver</td>\n",
              "      <td>43</td>\n",
              "      <td>6</td>\n",
              "      <td>3</td>\n",
              "      <td>3</td>\n",
              "      <td>34516.0</td>\n",
              "      <td>432</td>\n",
              "      <td>34084.0</td>\n",
              "      <td>0.807</td>\n",
              "      <td>9045</td>\n",
              "      <td>72</td>\n",
              "      <td>1.000</td>\n",
              "      <td>0.013</td>\n",
              "      <td>0.996120</td>\n",
              "      <td>0.003881</td>\n",
              "    </tr>\n",
              "    <tr>\n",
              "      <th>9473</th>\n",
              "      <td>719629308</td>\n",
              "      <td>Attrited Customer</td>\n",
              "      <td>55</td>\n",
              "      <td>F</td>\n",
              "      <td>2</td>\n",
              "      <td>Unknown</td>\n",
              "      <td>Single</td>\n",
              "      <td>Unknown</td>\n",
              "      <td>Silver</td>\n",
              "      <td>37</td>\n",
              "      <td>2</td>\n",
              "      <td>2</td>\n",
              "      <td>3</td>\n",
              "      <td>34516.0</td>\n",
              "      <td>1783</td>\n",
              "      <td>32733.0</td>\n",
              "      <td>0.821</td>\n",
              "      <td>8472</td>\n",
              "      <td>80</td>\n",
              "      <td>0.739</td>\n",
              "      <td>0.052</td>\n",
              "      <td>0.994770</td>\n",
              "      <td>0.005230</td>\n",
              "    </tr>\n",
              "    <tr>\n",
              "      <th>...</th>\n",
              "      <td>...</td>\n",
              "      <td>...</td>\n",
              "      <td>...</td>\n",
              "      <td>...</td>\n",
              "      <td>...</td>\n",
              "      <td>...</td>\n",
              "      <td>...</td>\n",
              "      <td>...</td>\n",
              "      <td>...</td>\n",
              "      <td>...</td>\n",
              "      <td>...</td>\n",
              "      <td>...</td>\n",
              "      <td>...</td>\n",
              "      <td>...</td>\n",
              "      <td>...</td>\n",
              "      <td>...</td>\n",
              "      <td>...</td>\n",
              "      <td>...</td>\n",
              "      <td>...</td>\n",
              "      <td>...</td>\n",
              "      <td>...</td>\n",
              "      <td>...</td>\n",
              "      <td>...</td>\n",
              "    </tr>\n",
              "    <tr>\n",
              "      <th>5007</th>\n",
              "      <td>709857033</td>\n",
              "      <td>Existing Customer</td>\n",
              "      <td>60</td>\n",
              "      <td>F</td>\n",
              "      <td>1</td>\n",
              "      <td>College</td>\n",
              "      <td>Single</td>\n",
              "      <td>$40K - $60K</td>\n",
              "      <td>Blue</td>\n",
              "      <td>50</td>\n",
              "      <td>5</td>\n",
              "      <td>1</td>\n",
              "      <td>3</td>\n",
              "      <td>1438.3</td>\n",
              "      <td>0</td>\n",
              "      <td>1438.3</td>\n",
              "      <td>0.578</td>\n",
              "      <td>4148</td>\n",
              "      <td>84</td>\n",
              "      <td>0.714</td>\n",
              "      <td>0.000</td>\n",
              "      <td>0.000085</td>\n",
              "      <td>0.999920</td>\n",
              "    </tr>\n",
              "    <tr>\n",
              "      <th>7437</th>\n",
              "      <td>717790233</td>\n",
              "      <td>Existing Customer</td>\n",
              "      <td>37</td>\n",
              "      <td>F</td>\n",
              "      <td>2</td>\n",
              "      <td>College</td>\n",
              "      <td>Single</td>\n",
              "      <td>$40K - $60K</td>\n",
              "      <td>Blue</td>\n",
              "      <td>26</td>\n",
              "      <td>3</td>\n",
              "      <td>2</td>\n",
              "      <td>3</td>\n",
              "      <td>1438.3</td>\n",
              "      <td>743</td>\n",
              "      <td>695.3</td>\n",
              "      <td>0.561</td>\n",
              "      <td>4730</td>\n",
              "      <td>80</td>\n",
              "      <td>0.778</td>\n",
              "      <td>0.517</td>\n",
              "      <td>0.000186</td>\n",
              "      <td>0.999810</td>\n",
              "    </tr>\n",
              "    <tr>\n",
              "      <th>1989</th>\n",
              "      <td>719826333</td>\n",
              "      <td>Existing Customer</td>\n",
              "      <td>34</td>\n",
              "      <td>F</td>\n",
              "      <td>2</td>\n",
              "      <td>Doctorate</td>\n",
              "      <td>Single</td>\n",
              "      <td>Less than $40K</td>\n",
              "      <td>Blue</td>\n",
              "      <td>13</td>\n",
              "      <td>5</td>\n",
              "      <td>1</td>\n",
              "      <td>2</td>\n",
              "      <td>1438.3</td>\n",
              "      <td>0</td>\n",
              "      <td>1438.3</td>\n",
              "      <td>0.946</td>\n",
              "      <td>2557</td>\n",
              "      <td>67</td>\n",
              "      <td>0.763</td>\n",
              "      <td>0.000</td>\n",
              "      <td>0.000080</td>\n",
              "      <td>0.999920</td>\n",
              "    </tr>\n",
              "    <tr>\n",
              "      <th>4590</th>\n",
              "      <td>716177583</td>\n",
              "      <td>Existing Customer</td>\n",
              "      <td>58</td>\n",
              "      <td>F</td>\n",
              "      <td>1</td>\n",
              "      <td>Post-Graduate</td>\n",
              "      <td>Single</td>\n",
              "      <td>Less than $40K</td>\n",
              "      <td>Blue</td>\n",
              "      <td>36</td>\n",
              "      <td>6</td>\n",
              "      <td>2</td>\n",
              "      <td>4</td>\n",
              "      <td>1438.3</td>\n",
              "      <td>0</td>\n",
              "      <td>1438.3</td>\n",
              "      <td>0.657</td>\n",
              "      <td>4722</td>\n",
              "      <td>89</td>\n",
              "      <td>0.745</td>\n",
              "      <td>0.000</td>\n",
              "      <td>0.000361</td>\n",
              "      <td>0.999640</td>\n",
              "    </tr>\n",
              "    <tr>\n",
              "      <th>5189</th>\n",
              "      <td>709495833</td>\n",
              "      <td>Attrited Customer</td>\n",
              "      <td>44</td>\n",
              "      <td>F</td>\n",
              "      <td>2</td>\n",
              "      <td>Graduate</td>\n",
              "      <td>Single</td>\n",
              "      <td>Less than $40K</td>\n",
              "      <td>Blue</td>\n",
              "      <td>36</td>\n",
              "      <td>5</td>\n",
              "      <td>2</td>\n",
              "      <td>4</td>\n",
              "      <td>1438.3</td>\n",
              "      <td>0</td>\n",
              "      <td>1438.3</td>\n",
              "      <td>0.421</td>\n",
              "      <td>1944</td>\n",
              "      <td>36</td>\n",
              "      <td>0.500</td>\n",
              "      <td>0.000</td>\n",
              "      <td>0.996950</td>\n",
              "      <td>0.003052</td>\n",
              "    </tr>\n",
              "  </tbody>\n",
              "</table>\n",
              "<p>10127 rows × 23 columns</p>\n",
              "</div>"
            ],
            "text/plain": [
              "      CLIENTNUM  ... Naive_Bayes_Classifier_Attrition_Flag_Card_Category_Contacts_Count_12_mon_Dependent_count_Education_Level_Months_Inactive_12_mon_2\n",
              "7032  715130808  ...                                           0.999970                                                                                \n",
              "6411  817607358  ...                                           0.002942                                                                                \n",
              "1437  715870758  ...                                           0.999460                                                                                \n",
              "9474  754443033  ...                                           0.003881                                                                                \n",
              "9473  719629308  ...                                           0.005230                                                                                \n",
              "...         ...  ...                                                ...                                                                                \n",
              "5007  709857033  ...                                           0.999920                                                                                \n",
              "7437  717790233  ...                                           0.999810                                                                                \n",
              "1989  719826333  ...                                           0.999920                                                                                \n",
              "4590  716177583  ...                                           0.999640                                                                                \n",
              "5189  709495833  ...                                           0.003052                                                                                \n",
              "\n",
              "[10127 rows x 23 columns]"
            ]
          },
          "metadata": {
            "tags": []
          },
          "execution_count": 35
        }
      ]
    },
    {
      "cell_type": "markdown",
      "metadata": {
        "id": "BPK2wQJfhsyS"
      },
      "source": [
        "###Lakukan grouping berdasarkan income category pada data, dan cari nilai minimum, maksimum, nilai tengah dan jumlah data pada credit limitnya!"
      ]
    },
    {
      "cell_type": "code",
      "metadata": {
        "id": "Di3FVdKXh2vn"
      },
      "source": [
        "#tulis kode disini"
      ],
      "execution_count": null,
      "outputs": []
    },
    {
      "cell_type": "markdown",
      "metadata": {
        "id": "ZgTr5IAkh4JY"
      },
      "source": [
        "###jawaban:"
      ]
    },
    {
      "cell_type": "code",
      "metadata": {
        "colab": {
          "base_uri": "https://localhost:8080/",
          "height": 261
        },
        "id": "8T-d5Wz0gWoo",
        "outputId": "79cdde3f-6894-4463-85e5-8378e3a32b8f"
      },
      "source": [
        "df.groupby('Income_Category')['Credit_Limit'].agg(['min', 'max', 'median','count']).sort_values('count', ascending=False)"
      ],
      "execution_count": null,
      "outputs": [
        {
          "output_type": "execute_result",
          "data": {
            "text/html": [
              "<div>\n",
              "<style scoped>\n",
              "    .dataframe tbody tr th:only-of-type {\n",
              "        vertical-align: middle;\n",
              "    }\n",
              "\n",
              "    .dataframe tbody tr th {\n",
              "        vertical-align: top;\n",
              "    }\n",
              "\n",
              "    .dataframe thead th {\n",
              "        text-align: right;\n",
              "    }\n",
              "</style>\n",
              "<table border=\"1\" class=\"dataframe\">\n",
              "  <thead>\n",
              "    <tr style=\"text-align: right;\">\n",
              "      <th></th>\n",
              "      <th>min</th>\n",
              "      <th>max</th>\n",
              "      <th>median</th>\n",
              "      <th>count</th>\n",
              "    </tr>\n",
              "    <tr>\n",
              "      <th>Income_Category</th>\n",
              "      <th></th>\n",
              "      <th></th>\n",
              "      <th></th>\n",
              "      <th></th>\n",
              "    </tr>\n",
              "  </thead>\n",
              "  <tbody>\n",
              "    <tr>\n",
              "      <th>Less than $40K</th>\n",
              "      <td>1438.3</td>\n",
              "      <td>15987.0</td>\n",
              "      <td>2766.0</td>\n",
              "      <td>3561</td>\n",
              "    </tr>\n",
              "    <tr>\n",
              "      <th>$40K - $60K</th>\n",
              "      <td>1438.3</td>\n",
              "      <td>23981.0</td>\n",
              "      <td>3682.0</td>\n",
              "      <td>1790</td>\n",
              "    </tr>\n",
              "    <tr>\n",
              "      <th>$80K - $120K</th>\n",
              "      <td>1438.3</td>\n",
              "      <td>34516.0</td>\n",
              "      <td>12830.0</td>\n",
              "      <td>1535</td>\n",
              "    </tr>\n",
              "    <tr>\n",
              "      <th>$60K - $80K</th>\n",
              "      <td>1438.3</td>\n",
              "      <td>34516.0</td>\n",
              "      <td>7660.0</td>\n",
              "      <td>1402</td>\n",
              "    </tr>\n",
              "    <tr>\n",
              "      <th>Unknown</th>\n",
              "      <td>1438.3</td>\n",
              "      <td>34516.0</td>\n",
              "      <td>6380.0</td>\n",
              "      <td>1112</td>\n",
              "    </tr>\n",
              "    <tr>\n",
              "      <th>$120K +</th>\n",
              "      <td>1438.3</td>\n",
              "      <td>34516.0</td>\n",
              "      <td>18442.0</td>\n",
              "      <td>727</td>\n",
              "    </tr>\n",
              "  </tbody>\n",
              "</table>\n",
              "</div>"
            ],
            "text/plain": [
              "                    min      max   median  count\n",
              "Income_Category                                 \n",
              "Less than $40K   1438.3  15987.0   2766.0   3561\n",
              "$40K - $60K      1438.3  23981.0   3682.0   1790\n",
              "$80K - $120K     1438.3  34516.0  12830.0   1535\n",
              "$60K - $80K      1438.3  34516.0   7660.0   1402\n",
              "Unknown          1438.3  34516.0   6380.0   1112\n",
              "$120K +          1438.3  34516.0  18442.0    727"
            ]
          },
          "metadata": {
            "tags": []
          },
          "execution_count": 37
        }
      ]
    },
    {
      "cell_type": "markdown",
      "metadata": {
        "id": "VFbTzGiKPOW9"
      },
      "source": [
        "##**3. Data Preprocessing**"
      ]
    },
    {
      "cell_type": "markdown",
      "metadata": {
        "id": "jvavmbHASdSs"
      },
      "source": [
        "<img src=\"https://miro.medium.com/max/1200/1*K6ctE0RZme0cqMtknrxq8A.png\" width=\"50%\">"
      ]
    },
    {
      "cell_type": "markdown",
      "metadata": {
        "id": "rMpe1zfWe5Fa"
      },
      "source": [
        "penjelasan~"
      ]
    },
    {
      "cell_type": "markdown",
      "metadata": {
        "id": "nQSH-AH-e7O2"
      },
      "source": [
        "###Catat dan tuliskan insight yang telah didapatkan dari EDA untuk pedoman dalam pengolahan data yang telah didapat"
      ]
    },
    {
      "cell_type": "code",
      "metadata": {
        "id": "1MPiAeETfD6g",
        "colab": {
          "base_uri": "https://localhost:8080/",
          "height": 35
        },
        "outputId": "ed3bd98a-f30b-4605-eab9-a05f3e3881d4"
      },
      "source": [
        "#tulis insight disini\n",
        "'''\n",
        "1. -\n",
        "2. -\n",
        "3. -\n",
        "4. -\n",
        "'''"
      ],
      "execution_count": null,
      "outputs": [
        {
          "output_type": "execute_result",
          "data": {
            "application/vnd.google.colaboratory.intrinsic+json": {
              "type": "string"
            },
            "text/plain": [
              "'\\n1. -\\n2. -\\n3. -\\n4. -\\n'"
            ]
          },
          "metadata": {
            "tags": []
          },
          "execution_count": 38
        }
      ]
    },
    {
      "cell_type": "markdown",
      "metadata": {
        "id": "meq35GvgfHIo"
      },
      "source": [
        "###jawaban:"
      ]
    },
    {
      "cell_type": "code",
      "metadata": {
        "id": "vlP5JZwrfRIm",
        "colab": {
          "base_uri": "https://localhost:8080/",
          "height": 53
        },
        "outputId": "4f9ae4d1-3034-4de3-e17e-1b89f45cd93a"
      },
      "source": [
        "'''\n",
        "1. kita perlu membuang data dengan korelasi yang tinggi x\n",
        "2. kita perlu membuat data kita balance antar 2 target de ngan undersampling x\n",
        "3. ganti data menjadi numerik x\n",
        "4. pisah data menjadi data train dan data test x\n",
        "'''"
      ],
      "execution_count": null,
      "outputs": [
        {
          "output_type": "execute_result",
          "data": {
            "application/vnd.google.colaboratory.intrinsic+json": {
              "type": "string"
            },
            "text/plain": [
              "'\\n1. kita perlu membuang data dengan korelasi yang tinggi x\\n2. kita perlu membuat data kita balance antar 2 target de ngan undersampling x\\n3. ganti data menjadi numerik x\\n4. pisah data menjadi data train dan data test x\\n'"
            ]
          },
          "metadata": {
            "tags": []
          },
          "execution_count": 39
        }
      ]
    },
    {
      "cell_type": "markdown",
      "metadata": {
        "id": "0L3OD9qHfTCV"
      },
      "source": [
        "###Buang feature dengan korelasi tinggi dan feature yang sekiranya tidak terpakai"
      ]
    },
    {
      "cell_type": "code",
      "metadata": {
        "colab": {
          "base_uri": "https://localhost:8080/",
          "height": 305
        },
        "id": "v4514jV6fcTb",
        "outputId": "66406a62-632b-4caf-906e-d21468f989b5"
      },
      "source": [
        "#tulis kode disini\n",
        "df.head()"
      ],
      "execution_count": null,
      "outputs": [
        {
          "output_type": "execute_result",
          "data": {
            "text/html": [
              "<div>\n",
              "<style scoped>\n",
              "    .dataframe tbody tr th:only-of-type {\n",
              "        vertical-align: middle;\n",
              "    }\n",
              "\n",
              "    .dataframe tbody tr th {\n",
              "        vertical-align: top;\n",
              "    }\n",
              "\n",
              "    .dataframe thead th {\n",
              "        text-align: right;\n",
              "    }\n",
              "</style>\n",
              "<table border=\"1\" class=\"dataframe\">\n",
              "  <thead>\n",
              "    <tr style=\"text-align: right;\">\n",
              "      <th></th>\n",
              "      <th>CLIENTNUM</th>\n",
              "      <th>Attrition_Flag</th>\n",
              "      <th>Customer_Age</th>\n",
              "      <th>Gender</th>\n",
              "      <th>Dependent_count</th>\n",
              "      <th>Education_Level</th>\n",
              "      <th>Marital_Status</th>\n",
              "      <th>Income_Category</th>\n",
              "      <th>Card_Category</th>\n",
              "      <th>Months_on_book</th>\n",
              "      <th>Total_Relationship_Count</th>\n",
              "      <th>Months_Inactive_12_mon</th>\n",
              "      <th>Contacts_Count_12_mon</th>\n",
              "      <th>Credit_Limit</th>\n",
              "      <th>Total_Revolving_Bal</th>\n",
              "      <th>Avg_Open_To_Buy</th>\n",
              "      <th>Total_Amt_Chng_Q4_Q1</th>\n",
              "      <th>Total_Trans_Amt</th>\n",
              "      <th>Total_Trans_Ct</th>\n",
              "      <th>Total_Ct_Chng_Q4_Q1</th>\n",
              "      <th>Avg_Utilization_Ratio</th>\n",
              "      <th>Naive_Bayes_Classifier_Attrition_Flag_Card_Category_Contacts_Count_12_mon_Dependent_count_Education_Level_Months_Inactive_12_mon_1</th>\n",
              "      <th>Naive_Bayes_Classifier_Attrition_Flag_Card_Category_Contacts_Count_12_mon_Dependent_count_Education_Level_Months_Inactive_12_mon_2</th>\n",
              "    </tr>\n",
              "  </thead>\n",
              "  <tbody>\n",
              "    <tr>\n",
              "      <th>0</th>\n",
              "      <td>768805383</td>\n",
              "      <td>Existing Customer</td>\n",
              "      <td>45</td>\n",
              "      <td>M</td>\n",
              "      <td>3</td>\n",
              "      <td>High School</td>\n",
              "      <td>Married</td>\n",
              "      <td>$60K - $80K</td>\n",
              "      <td>Blue</td>\n",
              "      <td>39</td>\n",
              "      <td>5</td>\n",
              "      <td>1</td>\n",
              "      <td>3</td>\n",
              "      <td>12691.0</td>\n",
              "      <td>777</td>\n",
              "      <td>11914.0</td>\n",
              "      <td>1.335</td>\n",
              "      <td>1144</td>\n",
              "      <td>42</td>\n",
              "      <td>1.625</td>\n",
              "      <td>0.061</td>\n",
              "      <td>0.000093</td>\n",
              "      <td>0.99991</td>\n",
              "    </tr>\n",
              "    <tr>\n",
              "      <th>1</th>\n",
              "      <td>818770008</td>\n",
              "      <td>Existing Customer</td>\n",
              "      <td>49</td>\n",
              "      <td>F</td>\n",
              "      <td>5</td>\n",
              "      <td>Graduate</td>\n",
              "      <td>Single</td>\n",
              "      <td>Less than $40K</td>\n",
              "      <td>Blue</td>\n",
              "      <td>44</td>\n",
              "      <td>6</td>\n",
              "      <td>1</td>\n",
              "      <td>2</td>\n",
              "      <td>8256.0</td>\n",
              "      <td>864</td>\n",
              "      <td>7392.0</td>\n",
              "      <td>1.541</td>\n",
              "      <td>1291</td>\n",
              "      <td>33</td>\n",
              "      <td>3.714</td>\n",
              "      <td>0.105</td>\n",
              "      <td>0.000057</td>\n",
              "      <td>0.99994</td>\n",
              "    </tr>\n",
              "    <tr>\n",
              "      <th>2</th>\n",
              "      <td>713982108</td>\n",
              "      <td>Existing Customer</td>\n",
              "      <td>51</td>\n",
              "      <td>M</td>\n",
              "      <td>3</td>\n",
              "      <td>Graduate</td>\n",
              "      <td>Married</td>\n",
              "      <td>$80K - $120K</td>\n",
              "      <td>Blue</td>\n",
              "      <td>36</td>\n",
              "      <td>4</td>\n",
              "      <td>1</td>\n",
              "      <td>0</td>\n",
              "      <td>3418.0</td>\n",
              "      <td>0</td>\n",
              "      <td>3418.0</td>\n",
              "      <td>2.594</td>\n",
              "      <td>1887</td>\n",
              "      <td>20</td>\n",
              "      <td>2.333</td>\n",
              "      <td>0.000</td>\n",
              "      <td>0.000021</td>\n",
              "      <td>0.99998</td>\n",
              "    </tr>\n",
              "    <tr>\n",
              "      <th>3</th>\n",
              "      <td>769911858</td>\n",
              "      <td>Existing Customer</td>\n",
              "      <td>40</td>\n",
              "      <td>F</td>\n",
              "      <td>4</td>\n",
              "      <td>High School</td>\n",
              "      <td>Unknown</td>\n",
              "      <td>Less than $40K</td>\n",
              "      <td>Blue</td>\n",
              "      <td>34</td>\n",
              "      <td>3</td>\n",
              "      <td>4</td>\n",
              "      <td>1</td>\n",
              "      <td>3313.0</td>\n",
              "      <td>2517</td>\n",
              "      <td>796.0</td>\n",
              "      <td>1.405</td>\n",
              "      <td>1171</td>\n",
              "      <td>20</td>\n",
              "      <td>2.333</td>\n",
              "      <td>0.760</td>\n",
              "      <td>0.000134</td>\n",
              "      <td>0.99987</td>\n",
              "    </tr>\n",
              "    <tr>\n",
              "      <th>4</th>\n",
              "      <td>709106358</td>\n",
              "      <td>Existing Customer</td>\n",
              "      <td>40</td>\n",
              "      <td>M</td>\n",
              "      <td>3</td>\n",
              "      <td>Uneducated</td>\n",
              "      <td>Married</td>\n",
              "      <td>$60K - $80K</td>\n",
              "      <td>Blue</td>\n",
              "      <td>21</td>\n",
              "      <td>5</td>\n",
              "      <td>1</td>\n",
              "      <td>0</td>\n",
              "      <td>4716.0</td>\n",
              "      <td>0</td>\n",
              "      <td>4716.0</td>\n",
              "      <td>2.175</td>\n",
              "      <td>816</td>\n",
              "      <td>28</td>\n",
              "      <td>2.500</td>\n",
              "      <td>0.000</td>\n",
              "      <td>0.000022</td>\n",
              "      <td>0.99998</td>\n",
              "    </tr>\n",
              "  </tbody>\n",
              "</table>\n",
              "</div>"
            ],
            "text/plain": [
              "   CLIENTNUM  ... Naive_Bayes_Classifier_Attrition_Flag_Card_Category_Contacts_Count_12_mon_Dependent_count_Education_Level_Months_Inactive_12_mon_2\n",
              "0  768805383  ...                                            0.99991                                                                                \n",
              "1  818770008  ...                                            0.99994                                                                                \n",
              "2  713982108  ...                                            0.99998                                                                                \n",
              "3  769911858  ...                                            0.99987                                                                                \n",
              "4  709106358  ...                                            0.99998                                                                                \n",
              "\n",
              "[5 rows x 23 columns]"
            ]
          },
          "metadata": {
            "tags": []
          },
          "execution_count": 40
        }
      ]
    },
    {
      "cell_type": "markdown",
      "metadata": {
        "id": "AWWSMPmdfYkO"
      },
      "source": [
        "###jawaban:"
      ]
    },
    {
      "cell_type": "code",
      "metadata": {
        "colab": {
          "base_uri": "https://localhost:8080/",
          "height": 305
        },
        "id": "1FJPWyzNfb3h",
        "outputId": "c8eb2884-4c34-40a9-bc39-847a49552579"
      },
      "source": [
        "df.drop(['Avg_Open_To_Buy', 'Total_Trans_Ct', 'Months_on_book', 'Avg_Utilization_Ratio', 'CLIENTNUM', 'Naive_Bayes_Classifier_Attrition_Flag_Card_Category_Contacts_Count_12_mon_Dependent_count_Education_Level_Months_Inactive_12_mon_1', 'Naive_Bayes_Classifier_Attrition_Flag_Card_Category_Contacts_Count_12_mon_Dependent_count_Education_Level_Months_Inactive_12_mon_2'], axis=1, inplace=True)\n",
        "df.head()"
      ],
      "execution_count": null,
      "outputs": [
        {
          "output_type": "execute_result",
          "data": {
            "text/html": [
              "<div>\n",
              "<style scoped>\n",
              "    .dataframe tbody tr th:only-of-type {\n",
              "        vertical-align: middle;\n",
              "    }\n",
              "\n",
              "    .dataframe tbody tr th {\n",
              "        vertical-align: top;\n",
              "    }\n",
              "\n",
              "    .dataframe thead th {\n",
              "        text-align: right;\n",
              "    }\n",
              "</style>\n",
              "<table border=\"1\" class=\"dataframe\">\n",
              "  <thead>\n",
              "    <tr style=\"text-align: right;\">\n",
              "      <th></th>\n",
              "      <th>Attrition_Flag</th>\n",
              "      <th>Customer_Age</th>\n",
              "      <th>Gender</th>\n",
              "      <th>Dependent_count</th>\n",
              "      <th>Education_Level</th>\n",
              "      <th>Marital_Status</th>\n",
              "      <th>Income_Category</th>\n",
              "      <th>Card_Category</th>\n",
              "      <th>Total_Relationship_Count</th>\n",
              "      <th>Months_Inactive_12_mon</th>\n",
              "      <th>Contacts_Count_12_mon</th>\n",
              "      <th>Credit_Limit</th>\n",
              "      <th>Total_Revolving_Bal</th>\n",
              "      <th>Total_Amt_Chng_Q4_Q1</th>\n",
              "      <th>Total_Trans_Amt</th>\n",
              "      <th>Total_Ct_Chng_Q4_Q1</th>\n",
              "    </tr>\n",
              "  </thead>\n",
              "  <tbody>\n",
              "    <tr>\n",
              "      <th>0</th>\n",
              "      <td>Existing Customer</td>\n",
              "      <td>45</td>\n",
              "      <td>M</td>\n",
              "      <td>3</td>\n",
              "      <td>High School</td>\n",
              "      <td>Married</td>\n",
              "      <td>$60K - $80K</td>\n",
              "      <td>Blue</td>\n",
              "      <td>5</td>\n",
              "      <td>1</td>\n",
              "      <td>3</td>\n",
              "      <td>12691.0</td>\n",
              "      <td>777</td>\n",
              "      <td>1.335</td>\n",
              "      <td>1144</td>\n",
              "      <td>1.625</td>\n",
              "    </tr>\n",
              "    <tr>\n",
              "      <th>1</th>\n",
              "      <td>Existing Customer</td>\n",
              "      <td>49</td>\n",
              "      <td>F</td>\n",
              "      <td>5</td>\n",
              "      <td>Graduate</td>\n",
              "      <td>Single</td>\n",
              "      <td>Less than $40K</td>\n",
              "      <td>Blue</td>\n",
              "      <td>6</td>\n",
              "      <td>1</td>\n",
              "      <td>2</td>\n",
              "      <td>8256.0</td>\n",
              "      <td>864</td>\n",
              "      <td>1.541</td>\n",
              "      <td>1291</td>\n",
              "      <td>3.714</td>\n",
              "    </tr>\n",
              "    <tr>\n",
              "      <th>2</th>\n",
              "      <td>Existing Customer</td>\n",
              "      <td>51</td>\n",
              "      <td>M</td>\n",
              "      <td>3</td>\n",
              "      <td>Graduate</td>\n",
              "      <td>Married</td>\n",
              "      <td>$80K - $120K</td>\n",
              "      <td>Blue</td>\n",
              "      <td>4</td>\n",
              "      <td>1</td>\n",
              "      <td>0</td>\n",
              "      <td>3418.0</td>\n",
              "      <td>0</td>\n",
              "      <td>2.594</td>\n",
              "      <td>1887</td>\n",
              "      <td>2.333</td>\n",
              "    </tr>\n",
              "    <tr>\n",
              "      <th>3</th>\n",
              "      <td>Existing Customer</td>\n",
              "      <td>40</td>\n",
              "      <td>F</td>\n",
              "      <td>4</td>\n",
              "      <td>High School</td>\n",
              "      <td>Unknown</td>\n",
              "      <td>Less than $40K</td>\n",
              "      <td>Blue</td>\n",
              "      <td>3</td>\n",
              "      <td>4</td>\n",
              "      <td>1</td>\n",
              "      <td>3313.0</td>\n",
              "      <td>2517</td>\n",
              "      <td>1.405</td>\n",
              "      <td>1171</td>\n",
              "      <td>2.333</td>\n",
              "    </tr>\n",
              "    <tr>\n",
              "      <th>4</th>\n",
              "      <td>Existing Customer</td>\n",
              "      <td>40</td>\n",
              "      <td>M</td>\n",
              "      <td>3</td>\n",
              "      <td>Uneducated</td>\n",
              "      <td>Married</td>\n",
              "      <td>$60K - $80K</td>\n",
              "      <td>Blue</td>\n",
              "      <td>5</td>\n",
              "      <td>1</td>\n",
              "      <td>0</td>\n",
              "      <td>4716.0</td>\n",
              "      <td>0</td>\n",
              "      <td>2.175</td>\n",
              "      <td>816</td>\n",
              "      <td>2.500</td>\n",
              "    </tr>\n",
              "  </tbody>\n",
              "</table>\n",
              "</div>"
            ],
            "text/plain": [
              "      Attrition_Flag  Customer_Age  ... Total_Trans_Amt  Total_Ct_Chng_Q4_Q1\n",
              "0  Existing Customer            45  ...            1144                1.625\n",
              "1  Existing Customer            49  ...            1291                3.714\n",
              "2  Existing Customer            51  ...            1887                2.333\n",
              "3  Existing Customer            40  ...            1171                2.333\n",
              "4  Existing Customer            40  ...             816                2.500\n",
              "\n",
              "[5 rows x 16 columns]"
            ]
          },
          "metadata": {
            "tags": []
          },
          "execution_count": 41
        }
      ]
    },
    {
      "cell_type": "markdown",
      "metadata": {
        "id": "uxTRu9iDmpCz"
      },
      "source": [
        "###Lakukan undersampling pada data target"
      ]
    },
    {
      "cell_type": "code",
      "metadata": {
        "id": "_WLoKngAmsZR"
      },
      "source": [
        "#tulis kode disini"
      ],
      "execution_count": null,
      "outputs": []
    },
    {
      "cell_type": "markdown",
      "metadata": {
        "id": "khI9N6asm00E"
      },
      "source": [
        "###jawaban:"
      ]
    },
    {
      "cell_type": "code",
      "metadata": {
        "colab": {
          "base_uri": "https://localhost:8080/"
        },
        "id": "4-MIFpYrm1tq",
        "outputId": "dc2491fc-bc52-4a07-ea67-178f2b43fd03"
      },
      "source": [
        "#hitung frekuensi pada tiap nilai\n",
        "df['Attrition_Flag'].value_counts()"
      ],
      "execution_count": null,
      "outputs": [
        {
          "output_type": "execute_result",
          "data": {
            "text/plain": [
              "Existing Customer    8500\n",
              "Attrited Customer    1627\n",
              "Name: Attrition_Flag, dtype: int64"
            ]
          },
          "metadata": {
            "tags": []
          },
          "execution_count": 43
        }
      ]
    },
    {
      "cell_type": "code",
      "metadata": {
        "id": "ObZxmcXZm-d6"
      },
      "source": [
        "#pisah data berdasarkan nilainya\n",
        "negative = df.loc[df['Attrition_Flag'] == 'Existing Customer']\n",
        "positive = df.loc[df['Attrition_Flag'] == 'Attrited Customer']"
      ],
      "execution_count": null,
      "outputs": []
    },
    {
      "cell_type": "code",
      "metadata": {
        "id": "xGaJ-sNAnFj0"
      },
      "source": [
        "#samakan jumlah data positif dan negatif\n",
        "negative = negative[: len(positive)]"
      ],
      "execution_count": null,
      "outputs": []
    },
    {
      "cell_type": "code",
      "metadata": {
        "colab": {
          "base_uri": "https://localhost:8080/"
        },
        "id": "S-w8tHpGngF8",
        "outputId": "f5bd7192-8ea8-4a9b-d3d4-c2bd438c5f0b"
      },
      "source": [
        "#satukan kedua data tersebut\n",
        "df = pd.concat([positive, negative])\n",
        "\n",
        "#cek jumlah data kembali\n",
        "df['Attrition_Flag'].value_counts()"
      ],
      "execution_count": null,
      "outputs": [
        {
          "output_type": "execute_result",
          "data": {
            "text/plain": [
              "Attrited Customer    1627\n",
              "Existing Customer    1627\n",
              "Name: Attrition_Flag, dtype: int64"
            ]
          },
          "metadata": {
            "tags": []
          },
          "execution_count": 46
        }
      ]
    },
    {
      "cell_type": "markdown",
      "metadata": {
        "id": "tmX0sD5BiABk"
      },
      "source": [
        "###Ambil semua kolom yang memiliki tipe data objek / bersifat string"
      ]
    },
    {
      "cell_type": "code",
      "metadata": {
        "id": "Iaqsbs2-iIXL"
      },
      "source": [
        "#tulis kode disini"
      ],
      "execution_count": null,
      "outputs": []
    },
    {
      "cell_type": "markdown",
      "metadata": {
        "id": "4jgrwRYTiKvV"
      },
      "source": [
        "###jawaban:"
      ]
    },
    {
      "cell_type": "code",
      "metadata": {
        "colab": {
          "base_uri": "https://localhost:8080/"
        },
        "id": "7oLqHRgGiNSu",
        "outputId": "96cc60fb-fb93-4ffc-80dc-5414b1932d0c"
      },
      "source": [
        "df.select_dtypes(include=['object']).columns.to_list()"
      ],
      "execution_count": null,
      "outputs": [
        {
          "output_type": "execute_result",
          "data": {
            "text/plain": [
              "['Attrition_Flag',\n",
              " 'Gender',\n",
              " 'Education_Level',\n",
              " 'Marital_Status',\n",
              " 'Income_Category',\n",
              " 'Card_Category']"
            ]
          },
          "metadata": {
            "tags": []
          },
          "execution_count": 48
        }
      ]
    },
    {
      "cell_type": "markdown",
      "metadata": {
        "id": "jVA7HQF-iWgV"
      },
      "source": [
        "###Lakukan label encode pada tiap nilai pada feature agar dapat dimasukkan ke dalam model"
      ]
    },
    {
      "cell_type": "code",
      "metadata": {
        "id": "HUvY8eqsie_c"
      },
      "source": [
        "#tulis kode disini"
      ],
      "execution_count": null,
      "outputs": []
    },
    {
      "cell_type": "markdown",
      "metadata": {
        "id": "T-EIdlAUig3b"
      },
      "source": [
        "###jawaban:"
      ]
    },
    {
      "cell_type": "code",
      "metadata": {
        "id": "RYX4EpARih5O"
      },
      "source": [
        "#buat dictionary untuk target variable\n",
        "target = {\n",
        "    'Existing Customer': 0,\n",
        "    'Attrited Customer': 1\n",
        "}\n",
        "\n",
        "\n",
        "#buat dictionary untuk gender\n",
        "gender =  {\n",
        "    'F': 0,\n",
        "    'M': 1\n",
        "}\n",
        "\n",
        "\n",
        "#buat dictionary untuk educational level\n",
        "education = {\n",
        "    'Unknown': 0,\n",
        "    'Uneducated': 1,\n",
        "    'High School': 2,\n",
        "    'College': 3,\n",
        "    'Graduate': 4,\n",
        "    'Post-Graduate': 5,\n",
        "    'Doctorate':6\n",
        "}\n",
        "\n",
        "\n",
        "#buat dictionary untuk marital status\n",
        "marital = {\n",
        "    'Unknown': 0,\n",
        "    'Single': 1,\n",
        "    'Married': 2,\n",
        "    'Divorced': 3\n",
        "}\n",
        "\n",
        "\n",
        "#buat dictionary untuk income status\n",
        "income = {\n",
        "  'Unknown': 0,\n",
        "  'Less than $40K': 1,\n",
        " '$40K - $60K': 2,\n",
        " '$60K - $80K': 3,\n",
        " '$80K - $120K': 4,\n",
        " '$120K +': 5\n",
        "}\n",
        "\n",
        "\n",
        "#buat dictionary untuk card category\n",
        "card = {\n",
        "    'Blue': 0,\n",
        "    'Silver': 1,\n",
        "    'Gold': 2,\n",
        "    'Platinum':3\n",
        "}\n",
        "\n",
        "data = [target, gender, education, marital, income, card]"
      ],
      "execution_count": null,
      "outputs": []
    },
    {
      "cell_type": "code",
      "metadata": {
        "colab": {
          "base_uri": "https://localhost:8080/",
          "height": 220
        },
        "id": "O4xA_tMXl0dL",
        "outputId": "30158d42-e424-460c-b87c-7e0c245989e5"
      },
      "source": [
        "#lakukan ganti kategori pada setiap data yang ada\n",
        "for i, col in enumerate(df.select_dtypes(include='object')):\n",
        "  df[col] = df[col].replace(data[i])\n",
        "\n",
        "df.head()"
      ],
      "execution_count": null,
      "outputs": [
        {
          "output_type": "execute_result",
          "data": {
            "text/html": [
              "<div>\n",
              "<style scoped>\n",
              "    .dataframe tbody tr th:only-of-type {\n",
              "        vertical-align: middle;\n",
              "    }\n",
              "\n",
              "    .dataframe tbody tr th {\n",
              "        vertical-align: top;\n",
              "    }\n",
              "\n",
              "    .dataframe thead th {\n",
              "        text-align: right;\n",
              "    }\n",
              "</style>\n",
              "<table border=\"1\" class=\"dataframe\">\n",
              "  <thead>\n",
              "    <tr style=\"text-align: right;\">\n",
              "      <th></th>\n",
              "      <th>Attrition_Flag</th>\n",
              "      <th>Customer_Age</th>\n",
              "      <th>Gender</th>\n",
              "      <th>Dependent_count</th>\n",
              "      <th>Education_Level</th>\n",
              "      <th>Marital_Status</th>\n",
              "      <th>Income_Category</th>\n",
              "      <th>Card_Category</th>\n",
              "      <th>Total_Relationship_Count</th>\n",
              "      <th>Months_Inactive_12_mon</th>\n",
              "      <th>Contacts_Count_12_mon</th>\n",
              "      <th>Credit_Limit</th>\n",
              "      <th>Total_Revolving_Bal</th>\n",
              "      <th>Total_Amt_Chng_Q4_Q1</th>\n",
              "      <th>Total_Trans_Amt</th>\n",
              "      <th>Total_Ct_Chng_Q4_Q1</th>\n",
              "    </tr>\n",
              "  </thead>\n",
              "  <tbody>\n",
              "    <tr>\n",
              "      <th>21</th>\n",
              "      <td>1</td>\n",
              "      <td>62</td>\n",
              "      <td>0</td>\n",
              "      <td>0</td>\n",
              "      <td>4</td>\n",
              "      <td>2</td>\n",
              "      <td>1</td>\n",
              "      <td>0</td>\n",
              "      <td>2</td>\n",
              "      <td>3</td>\n",
              "      <td>3</td>\n",
              "      <td>1438.3</td>\n",
              "      <td>0</td>\n",
              "      <td>1.047</td>\n",
              "      <td>692</td>\n",
              "      <td>0.600</td>\n",
              "    </tr>\n",
              "    <tr>\n",
              "      <th>39</th>\n",
              "      <td>1</td>\n",
              "      <td>66</td>\n",
              "      <td>0</td>\n",
              "      <td>0</td>\n",
              "      <td>6</td>\n",
              "      <td>2</td>\n",
              "      <td>0</td>\n",
              "      <td>0</td>\n",
              "      <td>5</td>\n",
              "      <td>4</td>\n",
              "      <td>3</td>\n",
              "      <td>7882.0</td>\n",
              "      <td>605</td>\n",
              "      <td>1.052</td>\n",
              "      <td>704</td>\n",
              "      <td>0.143</td>\n",
              "    </tr>\n",
              "    <tr>\n",
              "      <th>51</th>\n",
              "      <td>1</td>\n",
              "      <td>54</td>\n",
              "      <td>0</td>\n",
              "      <td>1</td>\n",
              "      <td>4</td>\n",
              "      <td>2</td>\n",
              "      <td>1</td>\n",
              "      <td>0</td>\n",
              "      <td>2</td>\n",
              "      <td>3</td>\n",
              "      <td>1</td>\n",
              "      <td>1438.3</td>\n",
              "      <td>808</td>\n",
              "      <td>0.997</td>\n",
              "      <td>705</td>\n",
              "      <td>0.900</td>\n",
              "    </tr>\n",
              "    <tr>\n",
              "      <th>54</th>\n",
              "      <td>1</td>\n",
              "      <td>56</td>\n",
              "      <td>1</td>\n",
              "      <td>2</td>\n",
              "      <td>4</td>\n",
              "      <td>2</td>\n",
              "      <td>5</td>\n",
              "      <td>0</td>\n",
              "      <td>1</td>\n",
              "      <td>3</td>\n",
              "      <td>3</td>\n",
              "      <td>15769.0</td>\n",
              "      <td>0</td>\n",
              "      <td>1.041</td>\n",
              "      <td>602</td>\n",
              "      <td>0.364</td>\n",
              "    </tr>\n",
              "    <tr>\n",
              "      <th>61</th>\n",
              "      <td>1</td>\n",
              "      <td>48</td>\n",
              "      <td>1</td>\n",
              "      <td>2</td>\n",
              "      <td>4</td>\n",
              "      <td>2</td>\n",
              "      <td>3</td>\n",
              "      <td>1</td>\n",
              "      <td>2</td>\n",
              "      <td>4</td>\n",
              "      <td>4</td>\n",
              "      <td>34516.0</td>\n",
              "      <td>0</td>\n",
              "      <td>0.763</td>\n",
              "      <td>691</td>\n",
              "      <td>0.500</td>\n",
              "    </tr>\n",
              "  </tbody>\n",
              "</table>\n",
              "</div>"
            ],
            "text/plain": [
              "    Attrition_Flag  Customer_Age  ...  Total_Trans_Amt  Total_Ct_Chng_Q4_Q1\n",
              "21               1            62  ...              692                0.600\n",
              "39               1            66  ...              704                0.143\n",
              "51               1            54  ...              705                0.900\n",
              "54               1            56  ...              602                0.364\n",
              "61               1            48  ...              691                0.500\n",
              "\n",
              "[5 rows x 16 columns]"
            ]
          },
          "metadata": {
            "tags": []
          },
          "execution_count": 51
        }
      ]
    },
    {
      "cell_type": "markdown",
      "metadata": {
        "id": "IkMIr0ERoJeW"
      },
      "source": [
        "###Lakukan pembagian data menjadi feature variable (X) dan target variable (y)"
      ]
    },
    {
      "cell_type": "code",
      "metadata": {
        "id": "KFJ8ZmOGoOvP"
      },
      "source": [
        "#tulis kode disini"
      ],
      "execution_count": null,
      "outputs": []
    },
    {
      "cell_type": "markdown",
      "metadata": {
        "id": "qYTz2i9noQPE"
      },
      "source": [
        "###jawaban:"
      ]
    },
    {
      "cell_type": "code",
      "metadata": {
        "id": "JwbIzziEoRNO"
      },
      "source": [
        "X = df.drop('Attrition_Flag', axis=1)\n",
        "y = df['Attrition_Flag']"
      ],
      "execution_count": null,
      "outputs": []
    },
    {
      "cell_type": "markdown",
      "metadata": {
        "id": "8wILXRROogzA"
      },
      "source": [
        "###Bagi data menjadi 70% data training dan 30% data testing"
      ]
    },
    {
      "cell_type": "code",
      "metadata": {
        "id": "pb5Z_N8Uomt8"
      },
      "source": [
        "#tulis kode disini"
      ],
      "execution_count": null,
      "outputs": []
    },
    {
      "cell_type": "markdown",
      "metadata": {
        "id": "utS_Yl5Folmz"
      },
      "source": [
        "###jawaban:"
      ]
    },
    {
      "cell_type": "code",
      "metadata": {
        "id": "9KcrWsl3op3Z"
      },
      "source": [
        "from sklearn.model_selection import train_test_split\n",
        "\n",
        "X_train, X_test, y_train, y_test = train_test_split(X, y, stratify=y, test_size=0.3, shuffle=True, )"
      ],
      "execution_count": null,
      "outputs": []
    },
    {
      "cell_type": "markdown",
      "metadata": {
        "id": "43yFAw57PQv4"
      },
      "source": [
        "##**4. Create Machine Learning Model**"
      ]
    },
    {
      "cell_type": "markdown",
      "metadata": {
        "id": "qDXlJi2ZUfmv"
      },
      "source": [
        "<img src=\"https://media.geeksforgeeks.org/wp-content/cdn-uploads/machineLearning3.png\" width=\"50%\">"
      ]
    },
    {
      "cell_type": "markdown",
      "metadata": {
        "id": "xf2AhLeApLrs"
      },
      "source": [
        "penjelasan~"
      ]
    },
    {
      "cell_type": "markdown",
      "metadata": {
        "id": "Da_1v471pQWy"
      },
      "source": [
        "###Buatlah model machine learning berbasis logistic regression!"
      ]
    },
    {
      "cell_type": "code",
      "metadata": {
        "id": "S_4Dfl7jpVNG"
      },
      "source": [
        "#tulis kode disini"
      ],
      "execution_count": null,
      "outputs": []
    },
    {
      "cell_type": "markdown",
      "metadata": {
        "id": "Eu38E7ZnpWTU"
      },
      "source": [
        "###jawaban:"
      ]
    },
    {
      "cell_type": "code",
      "metadata": {
        "colab": {
          "base_uri": "https://localhost:8080/"
        },
        "id": "e2e_f0erpXOC",
        "outputId": "36320829-1680-4010-e1e4-b5e0fb4f7d1b"
      },
      "source": [
        "from sklearn.linear_model import LogisticRegression\n",
        "\n",
        "lr = LogisticRegression().fit(X_train, y_train)"
      ],
      "execution_count": null,
      "outputs": [
        {
          "output_type": "stream",
          "text": [
            "/usr/local/lib/python3.6/dist-packages/sklearn/linear_model/_logistic.py:940: ConvergenceWarning: lbfgs failed to converge (status=1):\n",
            "STOP: TOTAL NO. of ITERATIONS REACHED LIMIT.\n",
            "\n",
            "Increase the number of iterations (max_iter) or scale the data as shown in:\n",
            "    https://scikit-learn.org/stable/modules/preprocessing.html\n",
            "Please also refer to the documentation for alternative solver options:\n",
            "    https://scikit-learn.org/stable/modules/linear_model.html#logistic-regression\n",
            "  extra_warning_msg=_LOGISTIC_SOLVER_CONVERGENCE_MSG)\n"
          ],
          "name": "stderr"
        }
      ]
    },
    {
      "cell_type": "code",
      "metadata": {
        "colab": {
          "base_uri": "https://localhost:8080/"
        },
        "id": "MFoBsmMF6N7o",
        "outputId": "c87babc4-d3d9-418f-db1c-a4d9d960ad14"
      },
      "source": [
        "lr.score(X_test,y_test)"
      ],
      "execution_count": null,
      "outputs": [
        {
          "output_type": "execute_result",
          "data": {
            "text/plain": [
              "0.7942681678607983"
            ]
          },
          "metadata": {
            "tags": []
          },
          "execution_count": 100
        }
      ]
    },
    {
      "cell_type": "markdown",
      "metadata": {
        "id": "1E0PEjqFpvzk"
      },
      "source": [
        "###Buatlah model Deep learning sederhana menggunakan Tensorflow!"
      ]
    },
    {
      "cell_type": "code",
      "metadata": {
        "colab": {
          "base_uri": "https://localhost:8080/"
        },
        "id": "JJ85nMua1omy",
        "outputId": "71d1ff23-c4d0-4a33-9543-fd3b63557c61"
      },
      "source": [
        "X_train.shape"
      ],
      "execution_count": null,
      "outputs": [
        {
          "output_type": "execute_result",
          "data": {
            "text/plain": [
              "(2277, 15)"
            ]
          },
          "metadata": {
            "tags": []
          },
          "execution_count": 66
        }
      ]
    },
    {
      "cell_type": "code",
      "metadata": {
        "id": "9HE9wDpnp2N8",
        "colab": {
          "base_uri": "https://localhost:8080/"
        },
        "outputId": "a8cbd29f-0bcc-4ca3-8d90-654d72bd00f4"
      },
      "source": [
        "#tulis kode disini\n",
        "import tensorflow as tf\n",
        "\n",
        "model = tf.keras.models.Sequential()\n",
        "model.add(tf.keras.layers.Dense(units=20,input_shape=(15,),activation=tf.nn.tanh))\n",
        "model.add(tf.keras.layers.Dense(units=60,activation=tf.nn.sigmoid))\n",
        "model.add(tf.keras.layers.Dropout(0.2))\n",
        "model.add(tf.keras.layers.Dense(units=90,activation=tf.nn.sigmoid))\n",
        "model.add(tf.keras.layers.Dense(units=60,activation=tf.nn.selu))\n",
        "model.add(tf.keras.layers.Dense(units=1,activation='sigmoid'))\n",
        "\n",
        "model.compile(optimizer=tf.optimizers.Adam(0.0015),loss=\"mae\", metrics=[\"accuracy\"])\n",
        "\n",
        "model.fit(X_train,y_train,epochs=100,validation_data=(X_test,y_test),batch_size=128,validation_batch_size=32,verbose=2)\n"
      ],
      "execution_count": null,
      "outputs": [
        {
          "output_type": "stream",
          "text": [
            "Epoch 1/100\n",
            "18/18 - 0s - loss: 0.4944 - accuracy: 0.4967 - val_loss: 0.4699 - val_accuracy: 0.5005\n",
            "Epoch 2/100\n",
            "18/18 - 0s - loss: 0.4479 - accuracy: 0.5889 - val_loss: 0.4107 - val_accuracy: 0.7001\n",
            "Epoch 3/100\n",
            "18/18 - 0s - loss: 0.3857 - accuracy: 0.6561 - val_loss: 0.3482 - val_accuracy: 0.6796\n",
            "Epoch 4/100\n",
            "18/18 - 0s - loss: 0.3171 - accuracy: 0.7150 - val_loss: 0.2925 - val_accuracy: 0.7185\n",
            "Epoch 5/100\n",
            "18/18 - 0s - loss: 0.2789 - accuracy: 0.7369 - val_loss: 0.2795 - val_accuracy: 0.7349\n",
            "Epoch 6/100\n",
            "18/18 - 0s - loss: 0.2520 - accuracy: 0.7611 - val_loss: 0.2719 - val_accuracy: 0.7277\n",
            "Epoch 7/100\n",
            "18/18 - 0s - loss: 0.2437 - accuracy: 0.7624 - val_loss: 0.2747 - val_accuracy: 0.7298\n",
            "Epoch 8/100\n",
            "18/18 - 0s - loss: 0.2399 - accuracy: 0.7668 - val_loss: 0.2698 - val_accuracy: 0.7308\n",
            "Epoch 9/100\n",
            "18/18 - 0s - loss: 0.2402 - accuracy: 0.7642 - val_loss: 0.2741 - val_accuracy: 0.7298\n",
            "Epoch 10/100\n",
            "18/18 - 0s - loss: 0.2392 - accuracy: 0.7628 - val_loss: 0.2599 - val_accuracy: 0.7410\n",
            "Epoch 11/100\n",
            "18/18 - 0s - loss: 0.2352 - accuracy: 0.7664 - val_loss: 0.2625 - val_accuracy: 0.7400\n",
            "Epoch 12/100\n",
            "18/18 - 0s - loss: 0.2292 - accuracy: 0.7725 - val_loss: 0.2542 - val_accuracy: 0.7451\n",
            "Epoch 13/100\n",
            "18/18 - 0s - loss: 0.2255 - accuracy: 0.7765 - val_loss: 0.2589 - val_accuracy: 0.7339\n",
            "Epoch 14/100\n",
            "18/18 - 0s - loss: 0.2312 - accuracy: 0.7708 - val_loss: 0.2747 - val_accuracy: 0.7226\n",
            "Epoch 15/100\n",
            "18/18 - 0s - loss: 0.2288 - accuracy: 0.7747 - val_loss: 0.2663 - val_accuracy: 0.7339\n",
            "Epoch 16/100\n",
            "18/18 - 0s - loss: 0.2302 - accuracy: 0.7708 - val_loss: 0.2537 - val_accuracy: 0.7482\n",
            "Epoch 17/100\n",
            "18/18 - 0s - loss: 0.2142 - accuracy: 0.7896 - val_loss: 0.2524 - val_accuracy: 0.7482\n",
            "Epoch 18/100\n",
            "18/18 - 0s - loss: 0.2158 - accuracy: 0.7839 - val_loss: 0.2579 - val_accuracy: 0.7421\n",
            "Epoch 19/100\n",
            "18/18 - 0s - loss: 0.2189 - accuracy: 0.7822 - val_loss: 0.2579 - val_accuracy: 0.7410\n",
            "Epoch 20/100\n",
            "18/18 - 0s - loss: 0.2200 - accuracy: 0.7800 - val_loss: 0.2753 - val_accuracy: 0.7226\n",
            "Epoch 21/100\n",
            "18/18 - 0s - loss: 0.2345 - accuracy: 0.7694 - val_loss: 0.2661 - val_accuracy: 0.7349\n",
            "Epoch 22/100\n",
            "18/18 - 0s - loss: 0.2274 - accuracy: 0.7747 - val_loss: 0.2630 - val_accuracy: 0.7390\n",
            "Epoch 23/100\n",
            "18/18 - 0s - loss: 0.2353 - accuracy: 0.7681 - val_loss: 0.2523 - val_accuracy: 0.7503\n",
            "Epoch 24/100\n",
            "18/18 - 0s - loss: 0.2249 - accuracy: 0.7756 - val_loss: 0.2526 - val_accuracy: 0.7513\n",
            "Epoch 25/100\n",
            "18/18 - 0s - loss: 0.2395 - accuracy: 0.7615 - val_loss: 0.3029 - val_accuracy: 0.6909\n",
            "Epoch 26/100\n",
            "18/18 - 0s - loss: 0.2523 - accuracy: 0.7488 - val_loss: 0.2791 - val_accuracy: 0.7216\n",
            "Epoch 27/100\n",
            "18/18 - 0s - loss: 0.2513 - accuracy: 0.7510 - val_loss: 0.2708 - val_accuracy: 0.7277\n",
            "Epoch 28/100\n",
            "18/18 - 0s - loss: 0.2401 - accuracy: 0.7606 - val_loss: 0.2722 - val_accuracy: 0.7277\n",
            "Epoch 29/100\n",
            "18/18 - 0s - loss: 0.2240 - accuracy: 0.7787 - val_loss: 0.2569 - val_accuracy: 0.7431\n",
            "Epoch 30/100\n",
            "18/18 - 0s - loss: 0.2166 - accuracy: 0.7844 - val_loss: 0.2531 - val_accuracy: 0.7472\n",
            "Epoch 31/100\n",
            "18/18 - 0s - loss: 0.2313 - accuracy: 0.7694 - val_loss: 0.2784 - val_accuracy: 0.7216\n",
            "Epoch 32/100\n",
            "18/18 - 0s - loss: 0.2304 - accuracy: 0.7712 - val_loss: 0.2662 - val_accuracy: 0.7339\n",
            "Epoch 33/100\n",
            "18/18 - 0s - loss: 0.2174 - accuracy: 0.7835 - val_loss: 0.2529 - val_accuracy: 0.7472\n",
            "Epoch 34/100\n",
            "18/18 - 0s - loss: 0.2299 - accuracy: 0.7703 - val_loss: 0.2842 - val_accuracy: 0.7155\n",
            "Epoch 35/100\n",
            "18/18 - 0s - loss: 0.2315 - accuracy: 0.7694 - val_loss: 0.2518 - val_accuracy: 0.7482\n",
            "Epoch 36/100\n",
            "18/18 - 0s - loss: 0.2158 - accuracy: 0.7844 - val_loss: 0.2508 - val_accuracy: 0.7492\n",
            "Epoch 37/100\n",
            "18/18 - 0s - loss: 0.2163 - accuracy: 0.7835 - val_loss: 0.2599 - val_accuracy: 0.7400\n",
            "Epoch 38/100\n",
            "18/18 - 0s - loss: 0.2240 - accuracy: 0.7765 - val_loss: 0.2610 - val_accuracy: 0.7390\n",
            "Epoch 39/100\n",
            "18/18 - 0s - loss: 0.2276 - accuracy: 0.7729 - val_loss: 0.2657 - val_accuracy: 0.7349\n",
            "Epoch 40/100\n",
            "18/18 - 0s - loss: 0.2295 - accuracy: 0.7703 - val_loss: 0.2612 - val_accuracy: 0.7390\n",
            "Epoch 41/100\n",
            "18/18 - 0s - loss: 0.2266 - accuracy: 0.7743 - val_loss: 0.2600 - val_accuracy: 0.7400\n",
            "Epoch 42/100\n",
            "18/18 - 0s - loss: 0.2192 - accuracy: 0.7813 - val_loss: 0.2590 - val_accuracy: 0.7410\n",
            "Epoch 43/100\n",
            "18/18 - 0s - loss: 0.2113 - accuracy: 0.7892 - val_loss: 0.2548 - val_accuracy: 0.7451\n",
            "Epoch 44/100\n",
            "18/18 - 0s - loss: 0.2126 - accuracy: 0.7879 - val_loss: 0.2533 - val_accuracy: 0.7472\n",
            "Epoch 45/100\n",
            "18/18 - 0s - loss: 0.2149 - accuracy: 0.7857 - val_loss: 0.2600 - val_accuracy: 0.7400\n",
            "Epoch 46/100\n",
            "18/18 - 0s - loss: 0.2354 - accuracy: 0.7650 - val_loss: 0.2754 - val_accuracy: 0.7247\n",
            "Epoch 47/100\n",
            "18/18 - 0s - loss: 0.2409 - accuracy: 0.7593 - val_loss: 0.2795 - val_accuracy: 0.7206\n",
            "Epoch 48/100\n",
            "18/18 - 0s - loss: 0.2425 - accuracy: 0.7580 - val_loss: 0.2794 - val_accuracy: 0.7206\n",
            "Epoch 49/100\n",
            "18/18 - 0s - loss: 0.2431 - accuracy: 0.7571 - val_loss: 0.2794 - val_accuracy: 0.7206\n",
            "Epoch 50/100\n",
            "18/18 - 0s - loss: 0.2432 - accuracy: 0.7571 - val_loss: 0.2794 - val_accuracy: 0.7206\n",
            "Epoch 51/100\n",
            "18/18 - 0s - loss: 0.2435 - accuracy: 0.7571 - val_loss: 0.2794 - val_accuracy: 0.7206\n",
            "Epoch 52/100\n",
            "18/18 - 0s - loss: 0.2431 - accuracy: 0.7567 - val_loss: 0.2794 - val_accuracy: 0.7206\n",
            "Epoch 53/100\n",
            "18/18 - 0s - loss: 0.2434 - accuracy: 0.7567 - val_loss: 0.2794 - val_accuracy: 0.7206\n",
            "Epoch 54/100\n",
            "18/18 - 0s - loss: 0.2434 - accuracy: 0.7571 - val_loss: 0.2794 - val_accuracy: 0.7206\n",
            "Epoch 55/100\n",
            "18/18 - 0s - loss: 0.2432 - accuracy: 0.7567 - val_loss: 0.2794 - val_accuracy: 0.7206\n",
            "Epoch 56/100\n",
            "18/18 - 0s - loss: 0.2255 - accuracy: 0.7747 - val_loss: 0.2508 - val_accuracy: 0.7492\n",
            "Epoch 57/100\n",
            "18/18 - 0s - loss: 0.2170 - accuracy: 0.7839 - val_loss: 0.2590 - val_accuracy: 0.7410\n",
            "Epoch 58/100\n",
            "18/18 - 0s - loss: 0.2178 - accuracy: 0.7826 - val_loss: 0.2569 - val_accuracy: 0.7431\n",
            "Epoch 59/100\n",
            "18/18 - 0s - loss: 0.2155 - accuracy: 0.7848 - val_loss: 0.2560 - val_accuracy: 0.7441\n",
            "Epoch 60/100\n",
            "18/18 - 0s - loss: 0.2150 - accuracy: 0.7852 - val_loss: 0.2569 - val_accuracy: 0.7431\n",
            "Epoch 61/100\n",
            "18/18 - 0s - loss: 0.2145 - accuracy: 0.7857 - val_loss: 0.2569 - val_accuracy: 0.7431\n",
            "Epoch 62/100\n",
            "18/18 - 0s - loss: 0.2149 - accuracy: 0.7852 - val_loss: 0.2569 - val_accuracy: 0.7431\n",
            "Epoch 63/100\n",
            "18/18 - 0s - loss: 0.2161 - accuracy: 0.7839 - val_loss: 0.2549 - val_accuracy: 0.7451\n",
            "Epoch 64/100\n",
            "18/18 - 0s - loss: 0.2141 - accuracy: 0.7857 - val_loss: 0.2528 - val_accuracy: 0.7472\n",
            "Epoch 65/100\n",
            "18/18 - 0s - loss: 0.2139 - accuracy: 0.7866 - val_loss: 0.2520 - val_accuracy: 0.7482\n",
            "Epoch 66/100\n",
            "18/18 - 0s - loss: 0.2119 - accuracy: 0.7883 - val_loss: 0.2528 - val_accuracy: 0.7472\n",
            "Epoch 67/100\n",
            "18/18 - 0s - loss: 0.2151 - accuracy: 0.7848 - val_loss: 0.2600 - val_accuracy: 0.7400\n",
            "Epoch 68/100\n",
            "18/18 - 0s - loss: 0.2196 - accuracy: 0.7804 - val_loss: 0.2600 - val_accuracy: 0.7400\n",
            "Epoch 69/100\n",
            "18/18 - 0s - loss: 0.2176 - accuracy: 0.7826 - val_loss: 0.2590 - val_accuracy: 0.7410\n",
            "Epoch 70/100\n",
            "18/18 - 0s - loss: 0.2148 - accuracy: 0.7852 - val_loss: 0.2569 - val_accuracy: 0.7431\n",
            "Epoch 71/100\n",
            "18/18 - 0s - loss: 0.2130 - accuracy: 0.7870 - val_loss: 0.2538 - val_accuracy: 0.7462\n",
            "Epoch 72/100\n",
            "18/18 - 0s - loss: 0.2123 - accuracy: 0.7879 - val_loss: 0.2528 - val_accuracy: 0.7472\n",
            "Epoch 73/100\n",
            "18/18 - 0s - loss: 0.2112 - accuracy: 0.7892 - val_loss: 0.2549 - val_accuracy: 0.7451\n",
            "Epoch 74/100\n",
            "18/18 - 0s - loss: 0.2112 - accuracy: 0.7888 - val_loss: 0.2487 - val_accuracy: 0.7513\n",
            "Epoch 75/100\n",
            "18/18 - 0s - loss: 0.2093 - accuracy: 0.7910 - val_loss: 0.2498 - val_accuracy: 0.7503\n",
            "Epoch 76/100\n",
            "18/18 - 0s - loss: 0.2095 - accuracy: 0.7905 - val_loss: 0.2488 - val_accuracy: 0.7513\n",
            "Epoch 77/100\n",
            "18/18 - 0s - loss: 0.2093 - accuracy: 0.7905 - val_loss: 0.2497 - val_accuracy: 0.7503\n",
            "Epoch 78/100\n",
            "18/18 - 0s - loss: 0.2096 - accuracy: 0.7905 - val_loss: 0.2497 - val_accuracy: 0.7503\n",
            "Epoch 79/100\n",
            "18/18 - 0s - loss: 0.2101 - accuracy: 0.7901 - val_loss: 0.2497 - val_accuracy: 0.7503\n",
            "Epoch 80/100\n",
            "18/18 - 0s - loss: 0.2100 - accuracy: 0.7901 - val_loss: 0.2497 - val_accuracy: 0.7503\n",
            "Epoch 81/100\n",
            "18/18 - 0s - loss: 0.2095 - accuracy: 0.7905 - val_loss: 0.2497 - val_accuracy: 0.7503\n",
            "Epoch 82/100\n",
            "18/18 - 0s - loss: 0.2091 - accuracy: 0.7910 - val_loss: 0.2478 - val_accuracy: 0.7523\n",
            "Epoch 83/100\n",
            "18/18 - 0s - loss: 0.2092 - accuracy: 0.7910 - val_loss: 0.2477 - val_accuracy: 0.7523\n",
            "Epoch 84/100\n",
            "18/18 - 0s - loss: 0.2095 - accuracy: 0.7905 - val_loss: 0.2477 - val_accuracy: 0.7523\n",
            "Epoch 85/100\n",
            "18/18 - 0s - loss: 0.2098 - accuracy: 0.7901 - val_loss: 0.2478 - val_accuracy: 0.7523\n",
            "Epoch 86/100\n",
            "18/18 - 0s - loss: 0.2099 - accuracy: 0.7901 - val_loss: 0.2485 - val_accuracy: 0.7513\n",
            "Epoch 87/100\n",
            "18/18 - 0s - loss: 0.2098 - accuracy: 0.7905 - val_loss: 0.2487 - val_accuracy: 0.7513\n",
            "Epoch 88/100\n",
            "18/18 - 0s - loss: 0.2098 - accuracy: 0.7905 - val_loss: 0.2487 - val_accuracy: 0.7513\n",
            "Epoch 89/100\n",
            "18/18 - 0s - loss: 0.2096 - accuracy: 0.7905 - val_loss: 0.2487 - val_accuracy: 0.7513\n",
            "Epoch 90/100\n",
            "18/18 - 0s - loss: 0.2095 - accuracy: 0.7905 - val_loss: 0.2508 - val_accuracy: 0.7492\n",
            "Epoch 91/100\n",
            "18/18 - 0s - loss: 0.2198 - accuracy: 0.7804 - val_loss: 0.2820 - val_accuracy: 0.7185\n",
            "Epoch 92/100\n",
            "18/18 - 0s - loss: 0.2465 - accuracy: 0.7536 - val_loss: 0.2989 - val_accuracy: 0.7011\n",
            "Epoch 93/100\n",
            "18/18 - 0s - loss: 0.2534 - accuracy: 0.7466 - val_loss: 0.3019 - val_accuracy: 0.6981\n",
            "Epoch 94/100\n",
            "18/18 - 0s - loss: 0.2529 - accuracy: 0.7470 - val_loss: 0.2978 - val_accuracy: 0.7021\n",
            "Epoch 95/100\n",
            "18/18 - 0s - loss: 0.2512 - accuracy: 0.7488 - val_loss: 0.2948 - val_accuracy: 0.7052\n",
            "Epoch 96/100\n",
            "18/18 - 0s - loss: 0.2490 - accuracy: 0.7510 - val_loss: 0.2897 - val_accuracy: 0.7103\n",
            "Epoch 97/100\n",
            "18/18 - 0s - loss: 0.2496 - accuracy: 0.7505 - val_loss: 0.2905 - val_accuracy: 0.7093\n",
            "Epoch 98/100\n",
            "18/18 - 0s - loss: 0.2366 - accuracy: 0.7633 - val_loss: 0.2764 - val_accuracy: 0.7236\n",
            "Epoch 99/100\n",
            "18/18 - 0s - loss: 0.2265 - accuracy: 0.7734 - val_loss: 0.2559 - val_accuracy: 0.7441\n",
            "Epoch 100/100\n",
            "18/18 - 0s - loss: 0.2236 - accuracy: 0.7765 - val_loss: 0.2712 - val_accuracy: 0.7288\n"
          ],
          "name": "stdout"
        },
        {
          "output_type": "execute_result",
          "data": {
            "text/plain": [
              "<tensorflow.python.keras.callbacks.History at 0x7f6105e5bef0>"
            ]
          },
          "metadata": {
            "tags": []
          },
          "execution_count": 147
        }
      ]
    },
    {
      "cell_type": "code",
      "metadata": {
        "colab": {
          "base_uri": "https://localhost:8080/"
        },
        "id": "Bn_fYNWuAjnE",
        "outputId": "8d66721e-46c6-403b-f5af-6ff47b2d84d5"
      },
      "source": [
        "!pip install autokeras\n",
        "!pip install git+https://github.com/keras-team/keras-tuner.git@1.0.2rc4"
      ],
      "execution_count": null,
      "outputs": [
        {
          "output_type": "stream",
          "text": [
            "Collecting autokeras\n",
            "\u001b[?25l  Downloading https://files.pythonhosted.org/packages/fa/06/1d5fa79edcc82d687de779d8e2eb13f72d637683ee94b398892ec48d1b5f/autokeras-1.0.11-py3-none-any.whl (159kB)\n",
            "\r\u001b[K     |██                              | 10kB 18.4MB/s eta 0:00:01\r\u001b[K     |████                            | 20kB 24.6MB/s eta 0:00:01\r\u001b[K     |██████▏                         | 30kB 24.4MB/s eta 0:00:01\r\u001b[K     |████████▏                       | 40kB 20.1MB/s eta 0:00:01\r\u001b[K     |██████████▎                     | 51kB 16.9MB/s eta 0:00:01\r\u001b[K     |████████████▎                   | 61kB 14.3MB/s eta 0:00:01\r\u001b[K     |██████████████▍                 | 71kB 15.3MB/s eta 0:00:01\r\u001b[K     |████████████████▍               | 81kB 15.3MB/s eta 0:00:01\r\u001b[K     |██████████████████▌             | 92kB 15.3MB/s eta 0:00:01\r\u001b[K     |████████████████████▌           | 102kB 13.4MB/s eta 0:00:01\r\u001b[K     |██████████████████████▋         | 112kB 13.4MB/s eta 0:00:01\r\u001b[K     |████████████████████████▋       | 122kB 13.4MB/s eta 0:00:01\r\u001b[K     |██████████████████████████▋     | 133kB 13.4MB/s eta 0:00:01\r\u001b[K     |████████████████████████████▊   | 143kB 13.4MB/s eta 0:00:01\r\u001b[K     |██████████████████████████████▊ | 153kB 13.4MB/s eta 0:00:01\r\u001b[K     |████████████████████████████████| 163kB 13.4MB/s \n",
            "\u001b[?25hRequirement already satisfied: pandas in /usr/local/lib/python3.6/dist-packages (from autokeras) (1.1.4)\n",
            "Requirement already satisfied: scikit-learn in /usr/local/lib/python3.6/dist-packages (from autokeras) (0.22.2.post1)\n",
            "Requirement already satisfied: tensorflow>=2.3.0 in /usr/local/lib/python3.6/dist-packages (from autokeras) (2.3.0)\n",
            "Requirement already satisfied: packaging in /usr/local/lib/python3.6/dist-packages (from autokeras) (20.4)\n",
            "Requirement already satisfied: numpy>=1.15.4 in /usr/local/lib/python3.6/dist-packages (from pandas->autokeras) (1.18.5)\n",
            "Requirement already satisfied: pytz>=2017.2 in /usr/local/lib/python3.6/dist-packages (from pandas->autokeras) (2018.9)\n",
            "Requirement already satisfied: python-dateutil>=2.7.3 in /usr/local/lib/python3.6/dist-packages (from pandas->autokeras) (2.8.1)\n",
            "Requirement already satisfied: joblib>=0.11 in /usr/local/lib/python3.6/dist-packages (from scikit-learn->autokeras) (0.17.0)\n",
            "Requirement already satisfied: scipy>=0.17.0 in /usr/local/lib/python3.6/dist-packages (from scikit-learn->autokeras) (1.4.1)\n",
            "Requirement already satisfied: h5py<2.11.0,>=2.10.0 in /usr/local/lib/python3.6/dist-packages (from tensorflow>=2.3.0->autokeras) (2.10.0)\n",
            "Requirement already satisfied: opt-einsum>=2.3.2 in /usr/local/lib/python3.6/dist-packages (from tensorflow>=2.3.0->autokeras) (3.3.0)\n",
            "Requirement already satisfied: six>=1.12.0 in /usr/local/lib/python3.6/dist-packages (from tensorflow>=2.3.0->autokeras) (1.15.0)\n",
            "Requirement already satisfied: tensorboard<3,>=2.3.0 in /usr/local/lib/python3.6/dist-packages (from tensorflow>=2.3.0->autokeras) (2.3.0)\n",
            "Requirement already satisfied: astunparse==1.6.3 in /usr/local/lib/python3.6/dist-packages (from tensorflow>=2.3.0->autokeras) (1.6.3)\n",
            "Requirement already satisfied: absl-py>=0.7.0 in /usr/local/lib/python3.6/dist-packages (from tensorflow>=2.3.0->autokeras) (0.10.0)\n",
            "Requirement already satisfied: gast==0.3.3 in /usr/local/lib/python3.6/dist-packages (from tensorflow>=2.3.0->autokeras) (0.3.3)\n",
            "Requirement already satisfied: termcolor>=1.1.0 in /usr/local/lib/python3.6/dist-packages (from tensorflow>=2.3.0->autokeras) (1.1.0)\n",
            "Requirement already satisfied: grpcio>=1.8.6 in /usr/local/lib/python3.6/dist-packages (from tensorflow>=2.3.0->autokeras) (1.33.2)\n",
            "Requirement already satisfied: tensorflow-estimator<2.4.0,>=2.3.0 in /usr/local/lib/python3.6/dist-packages (from tensorflow>=2.3.0->autokeras) (2.3.0)\n",
            "Requirement already satisfied: protobuf>=3.9.2 in /usr/local/lib/python3.6/dist-packages (from tensorflow>=2.3.0->autokeras) (3.12.4)\n",
            "Requirement already satisfied: wheel>=0.26 in /usr/local/lib/python3.6/dist-packages (from tensorflow>=2.3.0->autokeras) (0.35.1)\n",
            "Requirement already satisfied: google-pasta>=0.1.8 in /usr/local/lib/python3.6/dist-packages (from tensorflow>=2.3.0->autokeras) (0.2.0)\n",
            "Requirement already satisfied: wrapt>=1.11.1 in /usr/local/lib/python3.6/dist-packages (from tensorflow>=2.3.0->autokeras) (1.12.1)\n",
            "Requirement already satisfied: keras-preprocessing<1.2,>=1.1.1 in /usr/local/lib/python3.6/dist-packages (from tensorflow>=2.3.0->autokeras) (1.1.2)\n",
            "Requirement already satisfied: pyparsing>=2.0.2 in /usr/local/lib/python3.6/dist-packages (from packaging->autokeras) (2.4.7)\n",
            "Requirement already satisfied: google-auth-oauthlib<0.5,>=0.4.1 in /usr/local/lib/python3.6/dist-packages (from tensorboard<3,>=2.3.0->tensorflow>=2.3.0->autokeras) (0.4.2)\n",
            "Requirement already satisfied: setuptools>=41.0.0 in /usr/local/lib/python3.6/dist-packages (from tensorboard<3,>=2.3.0->tensorflow>=2.3.0->autokeras) (50.3.2)\n",
            "Requirement already satisfied: markdown>=2.6.8 in /usr/local/lib/python3.6/dist-packages (from tensorboard<3,>=2.3.0->tensorflow>=2.3.0->autokeras) (3.3.3)\n",
            "Requirement already satisfied: werkzeug>=0.11.15 in /usr/local/lib/python3.6/dist-packages (from tensorboard<3,>=2.3.0->tensorflow>=2.3.0->autokeras) (1.0.1)\n",
            "Requirement already satisfied: tensorboard-plugin-wit>=1.6.0 in /usr/local/lib/python3.6/dist-packages (from tensorboard<3,>=2.3.0->tensorflow>=2.3.0->autokeras) (1.7.0)\n",
            "Requirement already satisfied: requests<3,>=2.21.0 in /usr/local/lib/python3.6/dist-packages (from tensorboard<3,>=2.3.0->tensorflow>=2.3.0->autokeras) (2.23.0)\n",
            "Requirement already satisfied: google-auth<2,>=1.6.3 in /usr/local/lib/python3.6/dist-packages (from tensorboard<3,>=2.3.0->tensorflow>=2.3.0->autokeras) (1.17.2)\n",
            "Requirement already satisfied: requests-oauthlib>=0.7.0 in /usr/local/lib/python3.6/dist-packages (from google-auth-oauthlib<0.5,>=0.4.1->tensorboard<3,>=2.3.0->tensorflow>=2.3.0->autokeras) (1.3.0)\n",
            "Requirement already satisfied: importlib-metadata; python_version < \"3.8\" in /usr/local/lib/python3.6/dist-packages (from markdown>=2.6.8->tensorboard<3,>=2.3.0->tensorflow>=2.3.0->autokeras) (2.0.0)\n",
            "Requirement already satisfied: urllib3!=1.25.0,!=1.25.1,<1.26,>=1.21.1 in /usr/local/lib/python3.6/dist-packages (from requests<3,>=2.21.0->tensorboard<3,>=2.3.0->tensorflow>=2.3.0->autokeras) (1.24.3)\n",
            "Requirement already satisfied: idna<3,>=2.5 in /usr/local/lib/python3.6/dist-packages (from requests<3,>=2.21.0->tensorboard<3,>=2.3.0->tensorflow>=2.3.0->autokeras) (2.10)\n",
            "Requirement already satisfied: certifi>=2017.4.17 in /usr/local/lib/python3.6/dist-packages (from requests<3,>=2.21.0->tensorboard<3,>=2.3.0->tensorflow>=2.3.0->autokeras) (2020.11.8)\n",
            "Requirement already satisfied: chardet<4,>=3.0.2 in /usr/local/lib/python3.6/dist-packages (from requests<3,>=2.21.0->tensorboard<3,>=2.3.0->tensorflow>=2.3.0->autokeras) (3.0.4)\n",
            "Requirement already satisfied: rsa<5,>=3.1.4; python_version >= \"3\" in /usr/local/lib/python3.6/dist-packages (from google-auth<2,>=1.6.3->tensorboard<3,>=2.3.0->tensorflow>=2.3.0->autokeras) (4.6)\n",
            "Requirement already satisfied: cachetools<5.0,>=2.0.0 in /usr/local/lib/python3.6/dist-packages (from google-auth<2,>=1.6.3->tensorboard<3,>=2.3.0->tensorflow>=2.3.0->autokeras) (4.1.1)\n",
            "Requirement already satisfied: pyasn1-modules>=0.2.1 in /usr/local/lib/python3.6/dist-packages (from google-auth<2,>=1.6.3->tensorboard<3,>=2.3.0->tensorflow>=2.3.0->autokeras) (0.2.8)\n",
            "Requirement already satisfied: oauthlib>=3.0.0 in /usr/local/lib/python3.6/dist-packages (from requests-oauthlib>=0.7.0->google-auth-oauthlib<0.5,>=0.4.1->tensorboard<3,>=2.3.0->tensorflow>=2.3.0->autokeras) (3.1.0)\n",
            "Requirement already satisfied: zipp>=0.5 in /usr/local/lib/python3.6/dist-packages (from importlib-metadata; python_version < \"3.8\"->markdown>=2.6.8->tensorboard<3,>=2.3.0->tensorflow>=2.3.0->autokeras) (3.4.0)\n",
            "Requirement already satisfied: pyasn1>=0.1.3 in /usr/local/lib/python3.6/dist-packages (from rsa<5,>=3.1.4; python_version >= \"3\"->google-auth<2,>=1.6.3->tensorboard<3,>=2.3.0->tensorflow>=2.3.0->autokeras) (0.4.8)\n",
            "Installing collected packages: autokeras\n",
            "Successfully installed autokeras-1.0.11\n",
            "Collecting git+https://github.com/keras-team/keras-tuner.git@1.0.2rc4\n",
            "  Cloning https://github.com/keras-team/keras-tuner.git (to revision 1.0.2rc4) to /tmp/pip-req-build-u3f1lj9k\n",
            "  Running command git clone -q https://github.com/keras-team/keras-tuner.git /tmp/pip-req-build-u3f1lj9k\n",
            "  Running command git checkout -q 3189ab613e022d53c511348a10aed69d821f3cd1\n",
            "Requirement already satisfied: packaging in /usr/local/lib/python3.6/dist-packages (from keras-tuner==1.0.2rc4) (20.4)\n",
            "Requirement already satisfied: future in /usr/local/lib/python3.6/dist-packages (from keras-tuner==1.0.2rc4) (0.16.0)\n",
            "Requirement already satisfied: numpy<1.19.0 in /usr/local/lib/python3.6/dist-packages (from keras-tuner==1.0.2rc4) (1.18.5)\n",
            "Requirement already satisfied: tabulate in /usr/local/lib/python3.6/dist-packages (from keras-tuner==1.0.2rc4) (0.8.7)\n",
            "Collecting terminaltables\n",
            "  Downloading https://files.pythonhosted.org/packages/9b/c4/4a21174f32f8a7e1104798c445dacdc1d4df86f2f26722767034e4de4bff/terminaltables-3.1.0.tar.gz\n",
            "Collecting colorama\n",
            "  Downloading https://files.pythonhosted.org/packages/44/98/5b86278fbbf250d239ae0ecb724f8572af1c91f4a11edf4d36a206189440/colorama-0.4.4-py2.py3-none-any.whl\n",
            "Requirement already satisfied: tqdm in /usr/local/lib/python3.6/dist-packages (from keras-tuner==1.0.2rc4) (4.41.1)\n",
            "Requirement already satisfied: requests in /usr/local/lib/python3.6/dist-packages (from keras-tuner==1.0.2rc4) (2.23.0)\n",
            "Requirement already satisfied: scipy in /usr/local/lib/python3.6/dist-packages (from keras-tuner==1.0.2rc4) (1.4.1)\n",
            "Requirement already satisfied: scikit-learn in /usr/local/lib/python3.6/dist-packages (from keras-tuner==1.0.2rc4) (0.22.2.post1)\n",
            "Requirement already satisfied: pyparsing>=2.0.2 in /usr/local/lib/python3.6/dist-packages (from packaging->keras-tuner==1.0.2rc4) (2.4.7)\n",
            "Requirement already satisfied: six in /usr/local/lib/python3.6/dist-packages (from packaging->keras-tuner==1.0.2rc4) (1.15.0)\n",
            "Requirement already satisfied: urllib3!=1.25.0,!=1.25.1,<1.26,>=1.21.1 in /usr/local/lib/python3.6/dist-packages (from requests->keras-tuner==1.0.2rc4) (1.24.3)\n",
            "Requirement already satisfied: chardet<4,>=3.0.2 in /usr/local/lib/python3.6/dist-packages (from requests->keras-tuner==1.0.2rc4) (3.0.4)\n",
            "Requirement already satisfied: idna<3,>=2.5 in /usr/local/lib/python3.6/dist-packages (from requests->keras-tuner==1.0.2rc4) (2.10)\n",
            "Requirement already satisfied: certifi>=2017.4.17 in /usr/local/lib/python3.6/dist-packages (from requests->keras-tuner==1.0.2rc4) (2020.11.8)\n",
            "Requirement already satisfied: joblib>=0.11 in /usr/local/lib/python3.6/dist-packages (from scikit-learn->keras-tuner==1.0.2rc4) (0.17.0)\n",
            "Building wheels for collected packages: keras-tuner, terminaltables\n",
            "  Building wheel for keras-tuner (setup.py) ... \u001b[?25l\u001b[?25hdone\n",
            "  Created wheel for keras-tuner: filename=keras_tuner-1.0.2rc4-cp36-none-any.whl size=92365 sha256=1d6873983d8c75289dbd90a8ea19de5781da32bf151732b4ed3c4bdfac7befef\n",
            "  Stored in directory: /tmp/pip-ephem-wheel-cache-w9vm46xq/wheels/f6/84/20/5b1be7aae47964b49fa6b39881440a3a23d2a73d84bc097aeb\n",
            "  Building wheel for terminaltables (setup.py) ... \u001b[?25l\u001b[?25hdone\n",
            "  Created wheel for terminaltables: filename=terminaltables-3.1.0-cp36-none-any.whl size=15356 sha256=aade95b0c079dc78f339f4047fce0dbac2d10cff30dd1618d38a469acc7be9fc\n",
            "  Stored in directory: /root/.cache/pip/wheels/30/6b/50/6c75775b681fb36cdfac7f19799888ef9d8813aff9e379663e\n",
            "Successfully built keras-tuner terminaltables\n",
            "Installing collected packages: terminaltables, colorama, keras-tuner\n",
            "Successfully installed colorama-0.4.4 keras-tuner-1.0.2rc4 terminaltables-3.1.0\n"
          ],
          "name": "stdout"
        }
      ]
    },
    {
      "cell_type": "code",
      "metadata": {
        "colab": {
          "base_uri": "https://localhost:8080/"
        },
        "id": "0vxvPfDSAwSE",
        "outputId": "03fe763a-94f1-41d6-9495-d8f75499fa32"
      },
      "source": [
        "import autokeras as ak\n",
        "\n",
        "clf = ak.StructuredDataClassifier(\n",
        "    overwrite=True,\n",
        "    max_trials=10)\n",
        "\n",
        "clf.fit(X_test,y_test,validation_data=(X_test,y_test),epochs=10)"
      ],
      "execution_count": null,
      "outputs": [
        {
          "output_type": "stream",
          "text": [
            "Trial 10 Complete [00h 00m 05s]\n",
            "val_accuracy: 0.9559876918792725\n",
            "\n",
            "Best val_accuracy So Far: 0.9662231206893921\n",
            "Total elapsed time: 00h 00m 39s\n",
            "INFO:tensorflow:Oracle triggered exit\n",
            "WARNING:tensorflow:Layer multi_category_encoding is casting an input tensor from dtype float64 to the layer's dtype of float32, which is new behavior in TensorFlow 2.  The layer has dtype float32 because its dtype defaults to floatx.\n",
            "\n",
            "If you intended to run this layer in float32, you can safely ignore this warning. If in doubt, this warning is likely only an issue if you are porting a TensorFlow 1.X model to TensorFlow 2.\n",
            "\n",
            "To change all layers to have dtype float64 by default, call `tf.keras.backend.set_floatx('float64')`. To change just this layer, pass dtype='float64' to the layer constructor. If you are the author of this layer, you can disable autocasting by passing autocast=False to the base Layer constructor.\n",
            "\n",
            "Epoch 1/10\n",
            "31/31 [==============================] - 0s 11ms/step - loss: 0.5129 - accuracy: 0.7462 - val_loss: 0.3794 - val_accuracy: 0.8240\n",
            "Epoch 2/10\n",
            "31/31 [==============================] - 0s 5ms/step - loss: 0.3899 - accuracy: 0.8147 - val_loss: 0.3352 - val_accuracy: 0.8567\n",
            "Epoch 3/10\n",
            "31/31 [==============================] - 0s 5ms/step - loss: 0.3229 - accuracy: 0.8608 - val_loss: 0.2819 - val_accuracy: 0.8823\n",
            "Epoch 4/10\n",
            "31/31 [==============================] - 0s 5ms/step - loss: 0.2829 - accuracy: 0.8762 - val_loss: 0.2429 - val_accuracy: 0.9079\n",
            "Epoch 5/10\n",
            "31/31 [==============================] - 0s 5ms/step - loss: 0.2439 - accuracy: 0.8946 - val_loss: 0.2069 - val_accuracy: 0.9243\n",
            "Epoch 6/10\n",
            "31/31 [==============================] - 0s 5ms/step - loss: 0.2063 - accuracy: 0.9140 - val_loss: 0.1701 - val_accuracy: 0.9365\n",
            "Epoch 7/10\n",
            "31/31 [==============================] - 0s 5ms/step - loss: 0.1733 - accuracy: 0.9386 - val_loss: 0.1413 - val_accuracy: 0.9437\n",
            "Epoch 8/10\n",
            "31/31 [==============================] - 0s 5ms/step - loss: 0.1434 - accuracy: 0.9488 - val_loss: 0.1199 - val_accuracy: 0.9570\n",
            "Epoch 9/10\n",
            "31/31 [==============================] - 0s 5ms/step - loss: 0.1186 - accuracy: 0.9621 - val_loss: 0.1047 - val_accuracy: 0.9570\n",
            "Epoch 10/10\n",
            "31/31 [==============================] - 0s 5ms/step - loss: 0.0947 - accuracy: 0.9693 - val_loss: 0.0942 - val_accuracy: 0.9632\n",
            "INFO:tensorflow:Assets written to: ./structured_data_classifier/best_model/assets\n"
          ],
          "name": "stdout"
        }
      ]
    },
    {
      "cell_type": "markdown",
      "metadata": {
        "id": "ucSEkHOVp3bv"
      },
      "source": [
        "###jawaban:"
      ]
    },
    {
      "cell_type": "code",
      "metadata": {
        "id": "R6i2uMC-p4Pp"
      },
      "source": [
        ""
      ],
      "execution_count": null,
      "outputs": []
    },
    {
      "cell_type": "markdown",
      "metadata": {
        "id": "ecuCMYTLQeWM"
      },
      "source": [
        "##**5. Model Evaluation**"
      ]
    },
    {
      "cell_type": "markdown",
      "metadata": {
        "id": "sOp2ws-ZU0lK"
      },
      "source": [
        "<img src=\"https://irinstitutes.org/wp-content/uploads/2017/04/evaluation.jpg\" width=\"50%\">"
      ]
    },
    {
      "cell_type": "markdown",
      "metadata": {
        "id": "Q1D77VT5p44d"
      },
      "source": [
        "penjelasan~"
      ]
    },
    {
      "cell_type": "markdown",
      "metadata": {
        "id": "ES26qSHPp6lC"
      },
      "source": [
        "Lakukan evaluasi pada model logistic regression menggunakan akurasi, confusion matrix, dan F1 score!"
      ]
    },
    {
      "cell_type": "code",
      "metadata": {
        "id": "Xx6M6pXkqLg4"
      },
      "source": [
        "#tulis kode disini"
      ],
      "execution_count": null,
      "outputs": []
    },
    {
      "cell_type": "markdown",
      "metadata": {
        "id": "nj4YFBNUqJTA"
      },
      "source": [
        "###jawaban:"
      ]
    },
    {
      "cell_type": "code",
      "metadata": {
        "colab": {
          "base_uri": "https://localhost:8080/"
        },
        "id": "3iSc9EUcp5sD",
        "outputId": "b4e4f312-abc6-4a84-a661-33f68c24a87a"
      },
      "source": [
        "#cek akurasi pada data test\n",
        "acc = lr.score(X_test, y_test)\n",
        "acc = round(acc, 2)*100\n",
        "\n",
        "print(f\"Akurasi dari model Logistic Regression adalah\\t: {acc}%\")"
      ],
      "execution_count": null,
      "outputs": [
        {
          "output_type": "stream",
          "text": [
            "Akurasi dari model Logistic Regression adalah\t: 79.0%\n"
          ],
          "name": "stdout"
        }
      ]
    },
    {
      "cell_type": "code",
      "metadata": {
        "colab": {
          "base_uri": "https://localhost:8080/",
          "height": 350
        },
        "id": "VWG6oayEqivl",
        "outputId": "6c28bd15-6b16-4728-bec9-9bd1889e19d5"
      },
      "source": [
        "#cek performa model menggunakan confusion matrix\n",
        "\n",
        "from sklearn.metrics import confusion_matrix\n",
        "\n",
        "matrix = confusion_matrix(y_test, lr.predict(X_test))\n",
        "\n",
        "fig, ax = plt.subplots(figsize=(5,5))\n",
        "ax = sns.heatmap(matrix, cmap='Blues', annot=True, fmt='g')\n",
        "\n",
        "ax.set_yticklabels(['positive', 'negative'])\n",
        "ax.set_xticklabels(['positive', 'negative'])\n",
        "\n",
        "ax.set_xlabel('True Value')\n",
        "ax.set_ylabel('Predicted Value')\n",
        "\n",
        "ax.set_title('CHECK MODEL PERFORMANCE BY CONFUSION MATRIX', fontweight='bold')\n",
        "plt.show()"
      ],
      "execution_count": null,
      "outputs": [
        {
          "output_type": "display_data",
          "data": {
            "image/png": "[encoded data removed]",
            "text/plain": [
              "<Figure size 360x360 with 2 Axes>"
            ]
          },
          "metadata": {
            "tags": [],
            "needs_background": "light"
          }
        }
      ]
    },
    {
      "cell_type": "code",
      "metadata": {
        "colab": {
          "base_uri": "https://localhost:8080/"
        },
        "id": "0nYTFbyxrdIb",
        "outputId": "93c98ef9-c579-49af-b286-e5671f621424"
      },
      "source": [
        "#pengecekan performa menggunakan F1 Score\n",
        "from sklearn.metrics import classification_report\n",
        "\n",
        "report = classification_report(y_test, lr.predict(X_test))\n",
        "\n",
        "print(report)"
      ],
      "execution_count": null,
      "outputs": [
        {
          "output_type": "stream",
          "text": [
            "              precision    recall  f1-score   support\n",
            "\n",
            "           0       0.79      0.80      0.80       488\n",
            "           1       0.80      0.79      0.79       489\n",
            "\n",
            "    accuracy                           0.79       977\n",
            "   macro avg       0.79      0.79      0.79       977\n",
            "weighted avg       0.79      0.79      0.79       977\n",
            "\n"
          ],
          "name": "stdout"
        }
      ]
    },
    {
      "cell_type": "markdown",
      "metadata": {
        "id": "TInosNBMQjCk"
      },
      "source": [
        "##**6. Save Model**"
      ]
    },
    {
      "cell_type": "markdown",
      "metadata": {
        "id": "GaVaAx6LU5J5"
      },
      "source": [
        "<img src=\"https://cdn.lynda.com/course/421800/421800-637286180187241484-16x9.jpg\" width=\"50%\">"
      ]
    },
    {
      "cell_type": "markdown",
      "metadata": {
        "id": "8guL3gxEs92F"
      },
      "source": [
        "penjelasan~"
      ]
    },
    {
      "cell_type": "markdown",
      "metadata": {
        "id": "-5wduSoJtAMx"
      },
      "source": [
        "###Lakukan simpan model logistic regression menggunakan library pickle"
      ]
    },
    {
      "cell_type": "code",
      "metadata": {
        "id": "iiO4C5CTtGNL"
      },
      "source": [
        "#tulis kode disini"
      ],
      "execution_count": null,
      "outputs": []
    },
    {
      "cell_type": "markdown",
      "metadata": {
        "id": "3Wdf5biItHuq"
      },
      "source": [
        "###jawaban:"
      ]
    },
    {
      "cell_type": "code",
      "metadata": {
        "id": "87c5f6RCtIo9"
      },
      "source": [
        "import pickle\n",
        "\n",
        "#simpan model dengan nama logisReg.pickle\n",
        "with open('logisReg.pickle', 'wb') as model:\n",
        "  pickle.dump(lr, model)"
      ],
      "execution_count": null,
      "outputs": []
    },
    {
      "cell_type": "markdown",
      "metadata": {
        "id": "TZs_eE1ttrQg"
      },
      "source": [
        "###Lakukan simpan model Deep learning menggunakan tensorflow!"
      ]
    },
    {
      "cell_type": "code",
      "metadata": {
        "id": "RSJLLmEatvBk"
      },
      "source": [
        "#tulis kode disini"
      ],
      "execution_count": null,
      "outputs": []
    },
    {
      "cell_type": "markdown",
      "metadata": {
        "id": "tX6lxpqatyQu"
      },
      "source": [
        "###jawaban:"
      ]
    },
    {
      "cell_type": "code",
      "metadata": {
        "id": "LNgDLfnht0Wy"
      },
      "source": [
        ""
      ],
      "execution_count": null,
      "outputs": []
    }
  ]
}