{
  "nbformat": 4,
  "nbformat_minor": 0,
  "metadata": {
    "colab": {
      "name": "DSC Week 4: Deployment.ipynb",
      "provenance": [],
      "collapsed_sections": [],
      "authorship_tag": "ABX9TyPU2WfBdQLhQwOM9XPeLlST",
      "include_colab_link": true
    },
    "kernelspec": {
      "name": "python3",
      "display_name": "Python 3"
    }
  },
  "cells": [
    {
      "cell_type": "markdown",
      "metadata": {
        "id": "view-in-github",
        "colab_type": "text"
      },
      "source": [
        "<a href=\"https://colab.research.google.com/github/cahyoardhi/DSC-TEL-U-ML-STUDYJAM/blob/main/DSC_Week_4_Deployment.ipynb\" target=\"_parent\"><img src=\"https://colab.research.google.com/assets/colab-badge.svg\" alt=\"Open In Colab\"/></a>"
      ]
    },
    {
      "cell_type": "markdown",
      "metadata": {
        "id": "iO9-lIMOO7HK"
      },
      "source": [
        "#**a. MACHINE LEARNING**"
      ]
    },
    {
      "cell_type": "markdown",
      "metadata": {
        "id": "yya8FNpjVJb6"
      },
      "source": [
        "<img src=\"https://wordstream-files-prod.s3.amazonaws.com/s3fs-public/styles/simple_image/public/images/machine-learning1.png?SnePeroHk5B9yZaLY7peFkULrfW8Gtaf&itok=yjEJbEKD\" width=\"50%\">"
      ]
    },
    {
      "cell_type": "markdown",
      "metadata": {
        "id": "lDi39lZyWvh9"
      },
      "source": [
        "Apa itu machine learning?\n",
        "machine learning adalah cabang keilmuan yang dimana membuat membuat suatu sistem dapat belajar dari data untuk mendapatkann pengalaman guna menyelesaikan permasalahan tertentu, machine learning sendiri terbagi menjadi 3 jenis, antara lain:"
      ]
    },
    {
      "cell_type": "markdown",
      "metadata": {
        "id": "jVgEPYBvXEoJ"
      },
      "source": [
        "<ul>\n",
        "<li><b>Supervised Learning</b></li>\n",
        "supervised learning merupakan salah satu jenis dari varian machine learning, pada jenis ini, model machine learning akan melakukan pembelajaran dengan data yang terbagi menjadi dua bagian, yaitu <b>Feature variable / Independent variable / data X</b> dan <b>Target variable / dependent variable / data Y / Label</b>\n",
        "\n",
        "permasalahan yang dapat diselesaikan menggunakan supervised learning ada dua,  yaitu melakukan prediksi pada kategori / klasifikasi dan prediksi pada nilai kontinu / regresi, beberapa contohnya adalah melakukan prediksi nilai saham (regresi), melakukan prediksi pertumbuhan penduduk berdasarkan data yang ada (regresi), melakukan klasifikasi customer berdasarkan data yang ada (klasifikasi), membuat spam filter pada email box (klasifikasi)\n",
        "\n",
        "beberapa algoritma yang terdapat pada supervised learning adalah:\n",
        "<ul>\n",
        "<li>Linear Regression (Regresi)</li>\n",
        "<li>Decision Tree Regressor (Regresi)</li>\n",
        "<li>Logistic regression (Klasifikasi)</li>\n",
        "<li>Support Vector Machine (Klasifikasi)</li>\n",
        "</ul>\n",
        "\n",
        "pada pembelajaran di minggu ini, kita akan belajar untuk menyelesaikan permasalahan Klasifikasi, yaitu mengenai customer churn pada layanan kartu kredit suatu bank<br><br>\n",
        "\n",
        "<li><b>Unsupervised Learning</b></li>\n",
        "unsupervised learning merupakan salah satu jenis dari varian machine learning, pada jenis ini model machine learning akan melakukan pembelajaran guna mencari pola pada data, permasalahan yang dapat diselesaikan menggunakan unsupervised learning \n",
        "<li><b>Reinforcement Learning</b></li>\n",
        "</ul>"
      ]
    },
    {
      "cell_type": "markdown",
      "metadata": {
        "id": "6ZxZOY-sPFmI"
      },
      "source": [
        "##**1. Data Collection**"
      ]
    },
    {
      "cell_type": "markdown",
      "metadata": {
        "id": "n2Q6hGYvRN8D"
      },
      "source": [
        "<img src=\"https://miro.medium.com/max/8332/1*wK8k8Vo8_c6jdYIjUWL_Pw.png\" width=\"50%\">"
      ]
    },
    {
      "cell_type": "markdown",
      "metadata": {
        "id": "oPLHXVXycs8l"
      },
      "source": [
        "###Ambil data dari link github yang disediakandan buatlah dataframe dari data tersebut menggunakan pandas!"
      ]
    },
    {
      "cell_type": "code",
      "metadata": {
        "id": "i6nrHcQ_cq7S"
      },
      "source": [
        "link_data = 'https://raw.githubusercontent.com/cahyoardhi/DSC-TEL-U-ML-STUDYJAM/main/BankChurners.csv'\n",
        "\n",
        "#tulis kode disini\n"
      ],
      "execution_count": null,
      "outputs": []
    },
    {
      "cell_type": "markdown",
      "metadata": {
        "id": "l3VkQpw9c3cR"
      },
      "source": [
        "###jawaban"
      ]
    },
    {
      "cell_type": "code",
      "metadata": {
        "colab": {
          "base_uri": "https://localhost:8080/",
          "height": 309
        },
        "id": "fmTnp61nc8jg",
        "outputId": "5b960f2d-8ca6-43c9-e5f5-993334ce8751"
      },
      "source": [
        "import pandas as pd\n",
        "\n",
        "link_data = 'https://raw.githubusercontent.com/cahyoardhi/DSC-TEL-U-ML-STUDYJAM/main/BankChurners.csv'\n",
        "df = pd.read_csv(link_data)\n",
        "\n",
        "\n",
        "#output 5 nilai terbesar\n",
        "df.head()"
      ],
      "execution_count": 1,
      "outputs": [
        {
          "output_type": "execute_result",
          "data": {
            "text/html": [
              "<div>\n",
              "<style scoped>\n",
              "    .dataframe tbody tr th:only-of-type {\n",
              "        vertical-align: middle;\n",
              "    }\n",
              "\n",
              "    .dataframe tbody tr th {\n",
              "        vertical-align: top;\n",
              "    }\n",
              "\n",
              "    .dataframe thead th {\n",
              "        text-align: right;\n",
              "    }\n",
              "</style>\n",
              "<table border=\"1\" class=\"dataframe\">\n",
              "  <thead>\n",
              "    <tr style=\"text-align: right;\">\n",
              "      <th></th>\n",
              "      <th>CLIENTNUM</th>\n",
              "      <th>Attrition_Flag</th>\n",
              "      <th>Customer_Age</th>\n",
              "      <th>Gender</th>\n",
              "      <th>Dependent_count</th>\n",
              "      <th>Education_Level</th>\n",
              "      <th>Marital_Status</th>\n",
              "      <th>Income_Category</th>\n",
              "      <th>Card_Category</th>\n",
              "      <th>Months_on_book</th>\n",
              "      <th>Total_Relationship_Count</th>\n",
              "      <th>Months_Inactive_12_mon</th>\n",
              "      <th>Contacts_Count_12_mon</th>\n",
              "      <th>Credit_Limit</th>\n",
              "      <th>Total_Revolving_Bal</th>\n",
              "      <th>Avg_Open_To_Buy</th>\n",
              "      <th>Total_Amt_Chng_Q4_Q1</th>\n",
              "      <th>Total_Trans_Amt</th>\n",
              "      <th>Total_Trans_Ct</th>\n",
              "      <th>Total_Ct_Chng_Q4_Q1</th>\n",
              "      <th>Avg_Utilization_Ratio</th>\n",
              "      <th>Naive_Bayes_Classifier_Attrition_Flag_Card_Category_Contacts_Count_12_mon_Dependent_count_Education_Level_Months_Inactive_12_mon_1</th>\n",
              "      <th>Naive_Bayes_Classifier_Attrition_Flag_Card_Category_Contacts_Count_12_mon_Dependent_count_Education_Level_Months_Inactive_12_mon_2</th>\n",
              "    </tr>\n",
              "  </thead>\n",
              "  <tbody>\n",
              "    <tr>\n",
              "      <th>0</th>\n",
              "      <td>768805383</td>\n",
              "      <td>Existing Customer</td>\n",
              "      <td>45</td>\n",
              "      <td>M</td>\n",
              "      <td>3</td>\n",
              "      <td>High School</td>\n",
              "      <td>Married</td>\n",
              "      <td>$60K - $80K</td>\n",
              "      <td>Blue</td>\n",
              "      <td>39</td>\n",
              "      <td>5</td>\n",
              "      <td>1</td>\n",
              "      <td>3</td>\n",
              "      <td>12691.0</td>\n",
              "      <td>777</td>\n",
              "      <td>11914.0</td>\n",
              "      <td>1.335</td>\n",
              "      <td>1144</td>\n",
              "      <td>42</td>\n",
              "      <td>1.625</td>\n",
              "      <td>0.061</td>\n",
              "      <td>0.000093</td>\n",
              "      <td>0.99991</td>\n",
              "    </tr>\n",
              "    <tr>\n",
              "      <th>1</th>\n",
              "      <td>818770008</td>\n",
              "      <td>Existing Customer</td>\n",
              "      <td>49</td>\n",
              "      <td>F</td>\n",
              "      <td>5</td>\n",
              "      <td>Graduate</td>\n",
              "      <td>Single</td>\n",
              "      <td>Less than $40K</td>\n",
              "      <td>Blue</td>\n",
              "      <td>44</td>\n",
              "      <td>6</td>\n",
              "      <td>1</td>\n",
              "      <td>2</td>\n",
              "      <td>8256.0</td>\n",
              "      <td>864</td>\n",
              "      <td>7392.0</td>\n",
              "      <td>1.541</td>\n",
              "      <td>1291</td>\n",
              "      <td>33</td>\n",
              "      <td>3.714</td>\n",
              "      <td>0.105</td>\n",
              "      <td>0.000057</td>\n",
              "      <td>0.99994</td>\n",
              "    </tr>\n",
              "    <tr>\n",
              "      <th>2</th>\n",
              "      <td>713982108</td>\n",
              "      <td>Existing Customer</td>\n",
              "      <td>51</td>\n",
              "      <td>M</td>\n",
              "      <td>3</td>\n",
              "      <td>Graduate</td>\n",
              "      <td>Married</td>\n",
              "      <td>$80K - $120K</td>\n",
              "      <td>Blue</td>\n",
              "      <td>36</td>\n",
              "      <td>4</td>\n",
              "      <td>1</td>\n",
              "      <td>0</td>\n",
              "      <td>3418.0</td>\n",
              "      <td>0</td>\n",
              "      <td>3418.0</td>\n",
              "      <td>2.594</td>\n",
              "      <td>1887</td>\n",
              "      <td>20</td>\n",
              "      <td>2.333</td>\n",
              "      <td>0.000</td>\n",
              "      <td>0.000021</td>\n",
              "      <td>0.99998</td>\n",
              "    </tr>\n",
              "    <tr>\n",
              "      <th>3</th>\n",
              "      <td>769911858</td>\n",
              "      <td>Existing Customer</td>\n",
              "      <td>40</td>\n",
              "      <td>F</td>\n",
              "      <td>4</td>\n",
              "      <td>High School</td>\n",
              "      <td>Unknown</td>\n",
              "      <td>Less than $40K</td>\n",
              "      <td>Blue</td>\n",
              "      <td>34</td>\n",
              "      <td>3</td>\n",
              "      <td>4</td>\n",
              "      <td>1</td>\n",
              "      <td>3313.0</td>\n",
              "      <td>2517</td>\n",
              "      <td>796.0</td>\n",
              "      <td>1.405</td>\n",
              "      <td>1171</td>\n",
              "      <td>20</td>\n",
              "      <td>2.333</td>\n",
              "      <td>0.760</td>\n",
              "      <td>0.000134</td>\n",
              "      <td>0.99987</td>\n",
              "    </tr>\n",
              "    <tr>\n",
              "      <th>4</th>\n",
              "      <td>709106358</td>\n",
              "      <td>Existing Customer</td>\n",
              "      <td>40</td>\n",
              "      <td>M</td>\n",
              "      <td>3</td>\n",
              "      <td>Uneducated</td>\n",
              "      <td>Married</td>\n",
              "      <td>$60K - $80K</td>\n",
              "      <td>Blue</td>\n",
              "      <td>21</td>\n",
              "      <td>5</td>\n",
              "      <td>1</td>\n",
              "      <td>0</td>\n",
              "      <td>4716.0</td>\n",
              "      <td>0</td>\n",
              "      <td>4716.0</td>\n",
              "      <td>2.175</td>\n",
              "      <td>816</td>\n",
              "      <td>28</td>\n",
              "      <td>2.500</td>\n",
              "      <td>0.000</td>\n",
              "      <td>0.000022</td>\n",
              "      <td>0.99998</td>\n",
              "    </tr>\n",
              "  </tbody>\n",
              "</table>\n",
              "</div>"
            ],
            "text/plain": [
              "   CLIENTNUM  ... Naive_Bayes_Classifier_Attrition_Flag_Card_Category_Contacts_Count_12_mon_Dependent_count_Education_Level_Months_Inactive_12_mon_2\n",
              "0  768805383  ...                                            0.99991                                                                                \n",
              "1  818770008  ...                                            0.99994                                                                                \n",
              "2  713982108  ...                                            0.99998                                                                                \n",
              "3  769911858  ...                                            0.99987                                                                                \n",
              "4  709106358  ...                                            0.99998                                                                                \n",
              "\n",
              "[5 rows x 23 columns]"
            ]
          },
          "metadata": {
            "tags": []
          },
          "execution_count": 1
        }
      ]
    },
    {
      "cell_type": "markdown",
      "metadata": {
        "id": "Tls_zBwCPK1h"
      },
      "source": [
        "##**2. Exploratory Data Analysis**"
      ]
    },
    {
      "cell_type": "markdown",
      "metadata": {
        "id": "qnzZ40KqRxoT"
      },
      "source": [
        "<img src=\"https://miro.medium.com/max/2598/1*RXdMb7Uk6mGqWqPguHULaQ.png\">"
      ]
    },
    {
      "cell_type": "markdown",
      "metadata": {
        "id": "VFbTzGiKPOW9"
      },
      "source": [
        "##**3. Data Preprocessing**"
      ]
    },
    {
      "cell_type": "markdown",
      "metadata": {
        "id": "jvavmbHASdSs"
      },
      "source": [
        "<img src=\"https://miro.medium.com/max/1200/1*K6ctE0RZme0cqMtknrxq8A.png\" width=\"50%\">"
      ]
    },
    {
      "cell_type": "markdown",
      "metadata": {
        "id": "43yFAw57PQv4"
      },
      "source": [
        "##**4. Create Machine Learning Model**"
      ]
    },
    {
      "cell_type": "markdown",
      "metadata": {
        "id": "qDXlJi2ZUfmv"
      },
      "source": [
        "<img src=\"https://media.geeksforgeeks.org/wp-content/cdn-uploads/machineLearning3.png\" width=\"50%\">"
      ]
    },
    {
      "cell_type": "markdown",
      "metadata": {
        "id": "ecuCMYTLQeWM"
      },
      "source": [
        "##**5. Model Evaluation**"
      ]
    },
    {
      "cell_type": "markdown",
      "metadata": {
        "id": "sOp2ws-ZU0lK"
      },
      "source": [
        "<img src=\"https://irinstitutes.org/wp-content/uploads/2017/04/evaluation.jpg\" width=\"50%\">"
      ]
    },
    {
      "cell_type": "markdown",
      "metadata": {
        "id": "TInosNBMQjCk"
      },
      "source": [
        "##**6. Save Model**"
      ]
    },
    {
      "cell_type": "markdown",
      "metadata": {
        "id": "GaVaAx6LU5J5"
      },
      "source": [
        "<img src=\"https://cdn.lynda.com/course/421800/421800-637286180187241484-16x9.jpg\" width=\"50%\">"
      ]
    },
    {
      "cell_type": "markdown",
      "metadata": {
        "id": "GWN3ohpHPCUK"
      },
      "source": [
        "#**b. DEEP LEARNING**"
      ]
    }
  ]
}